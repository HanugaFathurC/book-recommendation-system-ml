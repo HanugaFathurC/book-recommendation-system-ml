{
 "cells": [
  {
   "metadata": {},
   "cell_type": "markdown",
   "source": "# Book Recommendation System",
   "id": "8a77807f92f26ee"
  },
  {
   "metadata": {},
   "cell_type": "markdown",
   "source": "## Import Library",
   "id": "da8ade8eeb1a95ca"
  },
  {
   "metadata": {
    "ExecuteTime": {
     "end_time": "2025-04-24T09:11:51.957899Z",
     "start_time": "2025-04-24T09:11:49.989782Z"
    }
   },
   "cell_type": "code",
   "source": "!pip install kaggle pandas scikit-learn tensorflow matplotlib unzip",
   "id": "d1f47daef3e3ded5",
   "outputs": [
    {
     "name": "stdout",
     "output_type": "stream",
     "text": [
      "Requirement already satisfied: kaggle in /Users/macbookpro/miniconda3/lib/python3.12/site-packages (1.7.4.2)\r\n",
      "Requirement already satisfied: pandas in /Users/macbookpro/miniconda3/lib/python3.12/site-packages (2.2.3)\r\n",
      "Requirement already satisfied: scikit-learn in /Users/macbookpro/miniconda3/lib/python3.12/site-packages (1.6.1)\r\n",
      "Requirement already satisfied: tensorflow in /Users/macbookpro/miniconda3/lib/python3.12/site-packages (2.17.0)\r\n",
      "Requirement already satisfied: matplotlib in /Users/macbookpro/miniconda3/lib/python3.12/site-packages (3.10.0)\r\n",
      "Requirement already satisfied: unzip in /Users/macbookpro/miniconda3/lib/python3.12/site-packages (1.0.0)\r\n",
      "Requirement already satisfied: bleach in /Users/macbookpro/miniconda3/lib/python3.12/site-packages (from kaggle) (6.2.0)\r\n",
      "Requirement already satisfied: certifi>=14.05.14 in /Users/macbookpro/miniconda3/lib/python3.12/site-packages (from kaggle) (2025.1.31)\r\n",
      "Requirement already satisfied: charset-normalizer in /Users/macbookpro/miniconda3/lib/python3.12/site-packages (from kaggle) (2.0.4)\r\n",
      "Requirement already satisfied: idna in /Users/macbookpro/miniconda3/lib/python3.12/site-packages (from kaggle) (3.4)\r\n",
      "Requirement already satisfied: protobuf in /Users/macbookpro/miniconda3/lib/python3.12/site-packages (from kaggle) (4.25.3)\r\n",
      "Requirement already satisfied: python-dateutil>=2.5.3 in /Users/macbookpro/miniconda3/lib/python3.12/site-packages (from kaggle) (2.9.0.post0)\r\n",
      "Requirement already satisfied: python-slugify in /Users/macbookpro/miniconda3/lib/python3.12/site-packages (from kaggle) (8.0.4)\r\n",
      "Requirement already satisfied: requests in /Users/macbookpro/miniconda3/lib/python3.12/site-packages (from kaggle) (2.31.0)\r\n",
      "Requirement already satisfied: setuptools>=21.0.0 in /Users/macbookpro/miniconda3/lib/python3.12/site-packages (from kaggle) (68.2.2)\r\n",
      "Requirement already satisfied: six>=1.10 in /Users/macbookpro/miniconda3/lib/python3.12/site-packages (from kaggle) (1.16.0)\r\n",
      "Requirement already satisfied: text-unidecode in /Users/macbookpro/miniconda3/lib/python3.12/site-packages (from kaggle) (1.3)\r\n",
      "Requirement already satisfied: tqdm in /Users/macbookpro/miniconda3/lib/python3.12/site-packages (from kaggle) (4.65.0)\r\n",
      "Requirement already satisfied: urllib3>=1.15.1 in /Users/macbookpro/miniconda3/lib/python3.12/site-packages (from kaggle) (2.1.0)\r\n",
      "Requirement already satisfied: webencodings in /Users/macbookpro/miniconda3/lib/python3.12/site-packages (from kaggle) (0.5.1)\r\n",
      "Requirement already satisfied: numpy>=1.26.0 in /Users/macbookpro/miniconda3/lib/python3.12/site-packages (from pandas) (1.26.4)\r\n",
      "Requirement already satisfied: pytz>=2020.1 in /Users/macbookpro/miniconda3/lib/python3.12/site-packages (from pandas) (2024.1)\r\n",
      "Requirement already satisfied: tzdata>=2022.7 in /Users/macbookpro/miniconda3/lib/python3.12/site-packages (from pandas) (2023.3)\r\n",
      "Requirement already satisfied: scipy>=1.6.0 in /Users/macbookpro/miniconda3/lib/python3.12/site-packages (from scikit-learn) (1.15.1)\r\n",
      "Requirement already satisfied: joblib>=1.2.0 in /Users/macbookpro/miniconda3/lib/python3.12/site-packages (from scikit-learn) (1.4.2)\r\n",
      "Requirement already satisfied: threadpoolctl>=3.1.0 in /Users/macbookpro/miniconda3/lib/python3.12/site-packages (from scikit-learn) (3.5.0)\r\n",
      "Requirement already satisfied: absl-py>=1.0.0 in /Users/macbookpro/miniconda3/lib/python3.12/site-packages (from tensorflow) (2.1.0)\r\n",
      "Requirement already satisfied: astunparse>=1.6.0 in /Users/macbookpro/miniconda3/lib/python3.12/site-packages (from tensorflow) (1.6.3)\r\n",
      "Requirement already satisfied: flatbuffers>=24.3.25 in /Users/macbookpro/miniconda3/lib/python3.12/site-packages (from tensorflow) (24.3.25)\r\n",
      "Requirement already satisfied: gast!=0.5.0,!=0.5.1,!=0.5.2,>=0.2.1 in /Users/macbookpro/miniconda3/lib/python3.12/site-packages (from tensorflow) (0.5.3)\r\n",
      "Requirement already satisfied: google-pasta>=0.1.1 in /Users/macbookpro/miniconda3/lib/python3.12/site-packages (from tensorflow) (0.2.0)\r\n",
      "Requirement already satisfied: h5py>=3.10.0 in /Users/macbookpro/miniconda3/lib/python3.12/site-packages (from tensorflow) (3.12.1)\r\n",
      "Requirement already satisfied: ml-dtypes<0.5.0,>=0.3.1 in /Users/macbookpro/miniconda3/lib/python3.12/site-packages (from tensorflow) (0.4.0)\r\n",
      "Requirement already satisfied: opt-einsum>=2.3.2 in /Users/macbookpro/miniconda3/lib/python3.12/site-packages (from tensorflow) (3.3.0)\r\n",
      "Requirement already satisfied: packaging in /Users/macbookpro/miniconda3/lib/python3.12/site-packages (from tensorflow) (23.2)\r\n",
      "Requirement already satisfied: termcolor>=1.1.0 in /Users/macbookpro/miniconda3/lib/python3.12/site-packages (from tensorflow) (2.1.0)\r\n",
      "Requirement already satisfied: typing-extensions>=3.6.6 in /Users/macbookpro/miniconda3/lib/python3.12/site-packages (from tensorflow) (4.11.0)\r\n",
      "Requirement already satisfied: wrapt>=1.11.0 in /Users/macbookpro/miniconda3/lib/python3.12/site-packages (from tensorflow) (1.14.1)\r\n",
      "Requirement already satisfied: grpcio<2.0,>=1.24.3 in /Users/macbookpro/miniconda3/lib/python3.12/site-packages (from tensorflow) (1.62.2)\r\n",
      "Requirement already satisfied: tensorboard<2.18,>=2.17 in /Users/macbookpro/miniconda3/lib/python3.12/site-packages (from tensorflow) (2.17.0)\r\n",
      "Requirement already satisfied: keras>=3.2.0 in /Users/macbookpro/miniconda3/lib/python3.12/site-packages (from tensorflow) (3.4.1)\r\n",
      "Requirement already satisfied: contourpy>=1.0.1 in /Users/macbookpro/miniconda3/lib/python3.12/site-packages (from matplotlib) (1.3.1)\r\n",
      "Requirement already satisfied: cycler>=0.10 in /Users/macbookpro/miniconda3/lib/python3.12/site-packages (from matplotlib) (0.11.0)\r\n",
      "Requirement already satisfied: fonttools>=4.22.0 in /Users/macbookpro/miniconda3/lib/python3.12/site-packages (from matplotlib) (4.55.3)\r\n",
      "Requirement already satisfied: kiwisolver>=1.3.1 in /Users/macbookpro/miniconda3/lib/python3.12/site-packages (from matplotlib) (1.4.8)\r\n",
      "Requirement already satisfied: pillow>=8 in /Users/macbookpro/miniconda3/lib/python3.12/site-packages (from matplotlib) (11.1.0)\r\n",
      "Requirement already satisfied: pyparsing>=2.3.1 in /Users/macbookpro/miniconda3/lib/python3.12/site-packages (from matplotlib) (3.2.0)\r\n",
      "Requirement already satisfied: wheel<1.0,>=0.23.0 in /Users/macbookpro/miniconda3/lib/python3.12/site-packages (from astunparse>=1.6.0->tensorflow) (0.41.2)\r\n",
      "Requirement already satisfied: rich in /Users/macbookpro/miniconda3/lib/python3.12/site-packages (from keras>=3.2.0->tensorflow) (13.9.4)\r\n",
      "Requirement already satisfied: namex in /Users/macbookpro/miniconda3/lib/python3.12/site-packages (from keras>=3.2.0->tensorflow) (0.0.7)\r\n",
      "Requirement already satisfied: optree in /Users/macbookpro/miniconda3/lib/python3.12/site-packages (from keras>=3.2.0->tensorflow) (0.12.1)\r\n",
      "Requirement already satisfied: markdown>=2.6.8 in /Users/macbookpro/miniconda3/lib/python3.12/site-packages (from tensorboard<2.18,>=2.17->tensorflow) (3.4.1)\r\n",
      "Requirement already satisfied: tensorboard-data-server<0.8.0,>=0.7.0 in /Users/macbookpro/miniconda3/lib/python3.12/site-packages (from tensorboard<2.18,>=2.17->tensorflow) (0.7.0)\r\n",
      "Requirement already satisfied: werkzeug>=1.0.1 in /Users/macbookpro/miniconda3/lib/python3.12/site-packages (from tensorboard<2.18,>=2.17->tensorflow) (3.0.6)\r\n",
      "Requirement already satisfied: MarkupSafe>=2.1.1 in /Users/macbookpro/miniconda3/lib/python3.12/site-packages (from werkzeug>=1.0.1->tensorboard<2.18,>=2.17->tensorflow) (2.1.3)\r\n",
      "Requirement already satisfied: markdown-it-py>=2.2.0 in /Users/macbookpro/miniconda3/lib/python3.12/site-packages (from rich->keras>=3.2.0->tensorflow) (2.2.0)\r\n",
      "Requirement already satisfied: pygments<3.0.0,>=2.13.0 in /Users/macbookpro/miniconda3/lib/python3.12/site-packages (from rich->keras>=3.2.0->tensorflow) (2.15.1)\r\n",
      "Requirement already satisfied: mdurl~=0.1 in /Users/macbookpro/miniconda3/lib/python3.12/site-packages (from markdown-it-py>=2.2.0->rich->keras>=3.2.0->tensorflow) (0.1.0)\r\n"
     ]
    }
   ],
   "execution_count": 2
  },
  {
   "metadata": {
    "ExecuteTime": {
     "end_time": "2025-04-24T14:12:19.587305Z",
     "start_time": "2025-04-24T14:12:19.550586Z"
    }
   },
   "cell_type": "code",
   "source": [
    "# Basic utility libraries\n",
    "import os          # for interacting with the operating system (e.g., paths)\n",
    "import shutil      # for file operations like copying\n",
    "import zipfile     # for extracting zip files\n",
    "import re          # for regex\n",
    "from collections import defaultdict\n",
    "from math import floor\n",
    "from IPython.display import display, Image \n",
    "import random\n",
    "\n",
    "# Data handling and analysis\n",
    "import pandas as pd       # for working with tabular data (DataFrames)\n",
    "import numpy as np        # for numerical operations and array handling\n",
    "\n",
    "# Data visualization\n",
    "import matplotlib.pyplot as plt  # for plotting graphs and charts\n",
    "import seaborn as sns            # for statistical visualizations and styling\n",
    "\n",
    "# Content-Based Filtering (CBF)  tools\n",
    "from sklearn.feature_extraction.text import TfidfVectorizer  #TF-IDF \n",
    "from sklearn.metrics.pairwise import cosine_similarity # cosine similarity\n",
    "\n",
    "# Deep Learning (for Collaborative Filtering)\n",
    "from sklearn.preprocessing import LabelEncoder # Encode data\n",
    "from sklearn.model_selection import train_test_split\n",
    "import tensorflow as tf                      # core TensorFlow library\n",
    "import keras                                 # high-level API for building models\n",
    "from keras import layers                     # used to define neural network layers\n",
    "from keras import ops                        # Provides mathematical operations for custom model building"
   ],
   "id": "7142038164fec8a8",
   "outputs": [],
   "execution_count": 164
  },
  {
   "metadata": {},
   "cell_type": "markdown",
   "source": "## Data Loading ",
   "id": "9758ea53f6d52e8e"
  },
  {
   "metadata": {
    "ExecuteTime": {
     "end_time": "2025-04-24T09:12:15.487076Z",
     "start_time": "2025-04-24T09:12:03.248675Z"
    }
   },
   "cell_type": "code",
   "source": "!kaggle datasets download -d arashnic/book-recommendation-dataset # Download dataset from Kaggle",
   "id": "fbc121e30a2defb3",
   "outputs": [
    {
     "name": "stdout",
     "output_type": "stream",
     "text": [
      "Dataset URL: https://www.kaggle.com/datasets/arashnic/book-recommendation-dataset\r\n",
      "License(s): CC0-1.0\r\n"
     ]
    }
   ],
   "execution_count": 4
  },
  {
   "metadata": {
    "ExecuteTime": {
     "end_time": "2025-04-24T09:12:16.270801Z",
     "start_time": "2025-04-24T09:12:15.489710Z"
    }
   },
   "cell_type": "code",
   "source": "!unzip book-recommendation-dataset.zip -d dataset #unzip dataset",
   "id": "b812ebc73b5bf6b",
   "outputs": [
    {
     "name": "stdout",
     "output_type": "stream",
     "text": [
      "Archive:  book-recommendation-dataset.zip\r\n",
      "  inflating: dataset/Books.csv       \r\n",
      "  inflating: dataset/DeepRec.png     \r\n",
      "  inflating: dataset/Ratings.csv     \r\n",
      "  inflating: dataset/Users.csv       \r\n",
      "  inflating: dataset/classicRec.png  \r\n",
      "  inflating: dataset/recsys_taxonomy2.png  \r\n"
     ]
    }
   ],
   "execution_count": 5
  },
  {
   "metadata": {
    "ExecuteTime": {
     "end_time": "2025-04-24T09:12:17.598223Z",
     "start_time": "2025-04-24T09:12:16.271837Z"
    }
   },
   "cell_type": "code",
   "source": [
    "books = pd.read_csv(\"dataset/Books.csv\")\n",
    "users = pd.read_csv(\"dataset/Users.csv\")\n",
    "ratings = pd.read_csv(\"dataset/Ratings.csv\")\n",
    "\n",
    "print(f\"Books: {books.shape[0]} data | Unique ISBN: {books['ISBN'].nunique()}\")\n",
    "print(f\"Users: {users.shape[0]} data | Unique User-ID: {users['User-ID'].nunique()}\")\n",
    "print(f\"Ratings: {ratings.shape[0]} data | Unique User-ID: {ratings['User-ID'].nunique()}\")"
   ],
   "id": "26545b4de08ae619",
   "outputs": [
    {
     "name": "stderr",
     "output_type": "stream",
     "text": [
      "/var/folders/3q/m608zwdn7_3_d0cjdkbqsbm40000gn/T/ipykernel_64307/1549839683.py:1: DtypeWarning: Columns (3) have mixed types. Specify dtype option on import or set low_memory=False.\n",
      "  books = pd.read_csv(\"dataset/Books.csv\")\n"
     ]
    },
    {
     "name": "stdout",
     "output_type": "stream",
     "text": [
      "Books: 271360 data | Unique ISBN: 271360\n",
      "Users: 278858 data | Unique User-ID: 278858\n",
      "Ratings: 1149780 data | Unique User-ID: 105283\n"
     ]
    }
   ],
   "execution_count": 6
  },
  {
   "metadata": {},
   "cell_type": "markdown",
   "source": "## Data Understanding - Univariate Exploratory Data Analysis (EDA) ",
   "id": "6cf09711b04a41fd"
  },
  {
   "metadata": {},
   "cell_type": "markdown",
   "source": "### Books Variable",
   "id": "69a81f376785d532"
  },
  {
   "metadata": {
    "ExecuteTime": {
     "end_time": "2025-04-24T09:12:17.645703Z",
     "start_time": "2025-04-24T09:12:17.599266Z"
    }
   },
   "cell_type": "code",
   "source": "books.info() # show structure and types",
   "id": "28b6ea5fe568c035",
   "outputs": [
    {
     "name": "stdout",
     "output_type": "stream",
     "text": [
      "<class 'pandas.core.frame.DataFrame'>\n",
      "RangeIndex: 271360 entries, 0 to 271359\n",
      "Data columns (total 8 columns):\n",
      " #   Column               Non-Null Count   Dtype \n",
      "---  ------               --------------   ----- \n",
      " 0   ISBN                 271360 non-null  object\n",
      " 1   Book-Title           271360 non-null  object\n",
      " 2   Book-Author          271358 non-null  object\n",
      " 3   Year-Of-Publication  271360 non-null  object\n",
      " 4   Publisher            271358 non-null  object\n",
      " 5   Image-URL-S          271360 non-null  object\n",
      " 6   Image-URL-M          271360 non-null  object\n",
      " 7   Image-URL-L          271357 non-null  object\n",
      "dtypes: object(8)\n",
      "memory usage: 16.6+ MB\n"
     ]
    }
   ],
   "execution_count": 7
  },
  {
   "metadata": {
    "ExecuteTime": {
     "end_time": "2025-04-24T09:12:18.254300Z",
     "start_time": "2025-04-24T09:12:17.646554Z"
    }
   },
   "cell_type": "code",
   "source": "books.describe() ",
   "id": "83833478b0882c4",
   "outputs": [
    {
     "data": {
      "text/plain": [
       "              ISBN      Book-Title      Book-Author  Year-Of-Publication  \\\n",
       "count       271360          271360           271358               271360   \n",
       "unique      271360          242135           102022                  202   \n",
       "top     0195153448  Selected Poems  Agatha Christie                 2002   \n",
       "freq             1              27              632                13903   \n",
       "\n",
       "        Publisher                                        Image-URL-S  \\\n",
       "count      271358                                             271360   \n",
       "unique      16807                                             271044   \n",
       "top     Harlequin  http://images.amazon.com/images/P/185326119X.0...   \n",
       "freq         7535                                                  2   \n",
       "\n",
       "                                              Image-URL-M  \\\n",
       "count                                              271360   \n",
       "unique                                             271044   \n",
       "top     http://images.amazon.com/images/P/185326119X.0...   \n",
       "freq                                                    2   \n",
       "\n",
       "                                              Image-URL-L  \n",
       "count                                              271357  \n",
       "unique                                             271041  \n",
       "top     http://images.amazon.com/images/P/225307649X.0...  \n",
       "freq                                                    2  "
      ],
      "text/html": [
       "<div>\n",
       "<style scoped>\n",
       "    .dataframe tbody tr th:only-of-type {\n",
       "        vertical-align: middle;\n",
       "    }\n",
       "\n",
       "    .dataframe tbody tr th {\n",
       "        vertical-align: top;\n",
       "    }\n",
       "\n",
       "    .dataframe thead th {\n",
       "        text-align: right;\n",
       "    }\n",
       "</style>\n",
       "<table border=\"1\" class=\"dataframe\">\n",
       "  <thead>\n",
       "    <tr style=\"text-align: right;\">\n",
       "      <th></th>\n",
       "      <th>ISBN</th>\n",
       "      <th>Book-Title</th>\n",
       "      <th>Book-Author</th>\n",
       "      <th>Year-Of-Publication</th>\n",
       "      <th>Publisher</th>\n",
       "      <th>Image-URL-S</th>\n",
       "      <th>Image-URL-M</th>\n",
       "      <th>Image-URL-L</th>\n",
       "    </tr>\n",
       "  </thead>\n",
       "  <tbody>\n",
       "    <tr>\n",
       "      <th>count</th>\n",
       "      <td>271360</td>\n",
       "      <td>271360</td>\n",
       "      <td>271358</td>\n",
       "      <td>271360</td>\n",
       "      <td>271358</td>\n",
       "      <td>271360</td>\n",
       "      <td>271360</td>\n",
       "      <td>271357</td>\n",
       "    </tr>\n",
       "    <tr>\n",
       "      <th>unique</th>\n",
       "      <td>271360</td>\n",
       "      <td>242135</td>\n",
       "      <td>102022</td>\n",
       "      <td>202</td>\n",
       "      <td>16807</td>\n",
       "      <td>271044</td>\n",
       "      <td>271044</td>\n",
       "      <td>271041</td>\n",
       "    </tr>\n",
       "    <tr>\n",
       "      <th>top</th>\n",
       "      <td>0195153448</td>\n",
       "      <td>Selected Poems</td>\n",
       "      <td>Agatha Christie</td>\n",
       "      <td>2002</td>\n",
       "      <td>Harlequin</td>\n",
       "      <td>http://images.amazon.com/images/P/185326119X.0...</td>\n",
       "      <td>http://images.amazon.com/images/P/185326119X.0...</td>\n",
       "      <td>http://images.amazon.com/images/P/225307649X.0...</td>\n",
       "    </tr>\n",
       "    <tr>\n",
       "      <th>freq</th>\n",
       "      <td>1</td>\n",
       "      <td>27</td>\n",
       "      <td>632</td>\n",
       "      <td>13903</td>\n",
       "      <td>7535</td>\n",
       "      <td>2</td>\n",
       "      <td>2</td>\n",
       "      <td>2</td>\n",
       "    </tr>\n",
       "  </tbody>\n",
       "</table>\n",
       "</div>"
      ]
     },
     "execution_count": 8,
     "metadata": {},
     "output_type": "execute_result"
    }
   ],
   "execution_count": 8
  },
  {
   "metadata": {
    "ExecuteTime": {
     "end_time": "2025-04-24T09:12:18.376508Z",
     "start_time": "2025-04-24T09:12:18.255174Z"
    }
   },
   "cell_type": "code",
   "source": [
    "# Number of unique values in key columns\n",
    "print(f\"\\nUnique ISBNs: {books['ISBN'].nunique()}\")\n",
    "print(f\"Unique Titles: {books['Book-Title'].nunique()}\")\n",
    "print(f\"Unique Authors: {books['Book-Author'].nunique()}\")\n",
    "print(f\"Unique Publishers: {books['Publisher'].nunique()}\")"
   ],
   "id": "e27843024fee3f06",
   "outputs": [
    {
     "name": "stdout",
     "output_type": "stream",
     "text": [
      "\n",
      "Unique ISBNs: 271360\n",
      "Unique Titles: 242135\n",
      "Unique Authors: 102022\n",
      "Unique Publishers: 16807\n"
     ]
    }
   ],
   "execution_count": 9
  },
  {
   "metadata": {
    "ExecuteTime": {
     "end_time": "2025-04-24T09:12:18.426761Z",
     "start_time": "2025-04-24T09:12:18.378068Z"
    }
   },
   "cell_type": "code",
   "source": [
    "print(\"Missing values in Books:\")\n",
    "print(books.isnull().sum(), \"\\n\") # Check missing value"
   ],
   "id": "cb989ce9bcd893a2",
   "outputs": [
    {
     "name": "stdout",
     "output_type": "stream",
     "text": [
      "Missing values in Books:\n",
      "ISBN                   0\n",
      "Book-Title             0\n",
      "Book-Author            2\n",
      "Year-Of-Publication    0\n",
      "Publisher              2\n",
      "Image-URL-S            0\n",
      "Image-URL-M            0\n",
      "Image-URL-L            3\n",
      "dtype: int64 \n",
      "\n"
     ]
    }
   ],
   "execution_count": 10
  },
  {
   "metadata": {
    "ExecuteTime": {
     "end_time": "2025-04-24T09:12:18.706342Z",
     "start_time": "2025-04-24T09:12:18.433303Z"
    }
   },
   "cell_type": "code",
   "source": [
    "# Top 15 Publishers\n",
    "top_publishers = books['Publisher'].value_counts().head(15)\n",
    "\n",
    "plt.figure(figsize=(12, 6))\n",
    "sns.barplot(x=top_publishers.values, y=top_publishers.index, hue=top_publishers.index, legend=False, palette=\"coolwarm\")\n",
    "plt.title(\"Top 15 Most Frequent Publishers\")\n",
    "plt.xlabel(\"Count\")\n",
    "plt.ylabel(\"Publisher\")\n",
    "plt.show()"
   ],
   "id": "207b2b8935085e3e",
   "outputs": [
    {
     "data": {
      "text/plain": [
       "<Figure size 1200x600 with 1 Axes>"
      ],
      "image/png": "[encoded data removed]"
     },
     "metadata": {},
     "output_type": "display_data"
    }
   ],
   "execution_count": 11
  },
  {
   "metadata": {
    "ExecuteTime": {
     "end_time": "2025-04-24T09:12:18.890223Z",
     "start_time": "2025-04-24T09:12:18.709873Z"
    }
   },
   "cell_type": "code",
   "source": [
    "# Top 15 Authors\n",
    "top_authors = books['Book-Author'].value_counts().head(15)\n",
    "\n",
    "plt.figure(figsize=(12, 6))\n",
    "sns.barplot(x=top_authors.values, y=top_authors.index, hue=top_authors.index, legend=False, palette=\"rocket\")\n",
    "plt.title(\"Top 15 Most Frequent Authors\")\n",
    "plt.xlabel(\"Count\")\n",
    "plt.ylabel(\"Author\")\n",
    "plt.show()"
   ],
   "id": "140d342250f68cf1",
   "outputs": [
    {
     "data": {
      "text/plain": [
       "<Figure size 1200x600 with 1 Axes>"
      ],
      "image/png": "[encoded data removed]"
     },
     "metadata": {},
     "output_type": "display_data"
    }
   ],
   "execution_count": 12
  },
  {
   "metadata": {
    "ExecuteTime": {
     "end_time": "2025-04-24T09:12:19.285222Z",
     "start_time": "2025-04-24T09:12:18.892364Z"
    }
   },
   "cell_type": "code",
   "source": [
    "# Check outlier \n",
    "temp_books = books.copy()\n",
    "temp_books['Year-Of-Publication'] = pd.to_numeric(temp_books['Year-Of-Publication'], errors='coerce')\n",
    "\n",
    "\n",
    "plt.figure(figsize=(8, 4))\n",
    "sns.boxplot(x=temp_books['Year-Of-Publication'].dropna() )\n",
    "plt.title(\"Box Plot of Year of Publication\")\n",
    "plt.xlabel(\"Year\")\n",
    "plt.show()"
   ],
   "id": "392aec1721730aae",
   "outputs": [
    {
     "data": {
      "text/plain": [
       "<Figure size 800x400 with 1 Axes>"
      ],
      "image/png": "[encoded data removed]"
     },
     "metadata": {},
     "output_type": "display_data"
    }
   ],
   "execution_count": 13
  },
  {
   "metadata": {},
   "cell_type": "markdown",
   "source": "### Users Variable ",
   "id": "3d09df777efcf34d"
  },
  {
   "metadata": {
    "ExecuteTime": {
     "end_time": "2025-04-24T09:12:19.302058Z",
     "start_time": "2025-04-24T09:12:19.286472Z"
    }
   },
   "cell_type": "code",
   "source": "users.info() # Preview structure and types",
   "id": "7a6ac81269d50235",
   "outputs": [
    {
     "name": "stdout",
     "output_type": "stream",
     "text": [
      "<class 'pandas.core.frame.DataFrame'>\n",
      "RangeIndex: 278858 entries, 0 to 278857\n",
      "Data columns (total 3 columns):\n",
      " #   Column    Non-Null Count   Dtype  \n",
      "---  ------    --------------   -----  \n",
      " 0   User-ID   278858 non-null  int64  \n",
      " 1   Location  278858 non-null  object \n",
      " 2   Age       168096 non-null  float64\n",
      "dtypes: float64(1), int64(1), object(1)\n",
      "memory usage: 6.4+ MB\n"
     ]
    }
   ],
   "execution_count": 14
  },
  {
   "metadata": {
    "ExecuteTime": {
     "end_time": "2025-04-24T09:12:19.327155Z",
     "start_time": "2025-04-24T09:12:19.303342Z"
    }
   },
   "cell_type": "code",
   "source": "users.describe() # Summary statistics",
   "id": "8ef7071ce75bbe3f",
   "outputs": [
    {
     "data": {
      "text/plain": [
       "            User-ID            Age\n",
       "count  278858.00000  168096.000000\n",
       "mean   139429.50000      34.751434\n",
       "std     80499.51502      14.428097\n",
       "min         1.00000       0.000000\n",
       "25%     69715.25000      24.000000\n",
       "50%    139429.50000      32.000000\n",
       "75%    209143.75000      44.000000\n",
       "max    278858.00000     244.000000"
      ],
      "text/html": [
       "<div>\n",
       "<style scoped>\n",
       "    .dataframe tbody tr th:only-of-type {\n",
       "        vertical-align: middle;\n",
       "    }\n",
       "\n",
       "    .dataframe tbody tr th {\n",
       "        vertical-align: top;\n",
       "    }\n",
       "\n",
       "    .dataframe thead th {\n",
       "        text-align: right;\n",
       "    }\n",
       "</style>\n",
       "<table border=\"1\" class=\"dataframe\">\n",
       "  <thead>\n",
       "    <tr style=\"text-align: right;\">\n",
       "      <th></th>\n",
       "      <th>User-ID</th>\n",
       "      <th>Age</th>\n",
       "    </tr>\n",
       "  </thead>\n",
       "  <tbody>\n",
       "    <tr>\n",
       "      <th>count</th>\n",
       "      <td>278858.00000</td>\n",
       "      <td>168096.000000</td>\n",
       "    </tr>\n",
       "    <tr>\n",
       "      <th>mean</th>\n",
       "      <td>139429.50000</td>\n",
       "      <td>34.751434</td>\n",
       "    </tr>\n",
       "    <tr>\n",
       "      <th>std</th>\n",
       "      <td>80499.51502</td>\n",
       "      <td>14.428097</td>\n",
       "    </tr>\n",
       "    <tr>\n",
       "      <th>min</th>\n",
       "      <td>1.00000</td>\n",
       "      <td>0.000000</td>\n",
       "    </tr>\n",
       "    <tr>\n",
       "      <th>25%</th>\n",
       "      <td>69715.25000</td>\n",
       "      <td>24.000000</td>\n",
       "    </tr>\n",
       "    <tr>\n",
       "      <th>50%</th>\n",
       "      <td>139429.50000</td>\n",
       "      <td>32.000000</td>\n",
       "    </tr>\n",
       "    <tr>\n",
       "      <th>75%</th>\n",
       "      <td>209143.75000</td>\n",
       "      <td>44.000000</td>\n",
       "    </tr>\n",
       "    <tr>\n",
       "      <th>max</th>\n",
       "      <td>278858.00000</td>\n",
       "      <td>244.000000</td>\n",
       "    </tr>\n",
       "  </tbody>\n",
       "</table>\n",
       "</div>"
      ]
     },
     "execution_count": 15,
     "metadata": {},
     "output_type": "execute_result"
    }
   ],
   "execution_count": 15
  },
  {
   "metadata": {
    "ExecuteTime": {
     "end_time": "2025-04-24T09:12:19.364226Z",
     "start_time": "2025-04-24T09:12:19.328095Z"
    }
   },
   "cell_type": "code",
   "source": [
    "print(f\"\\nUnique Users: {users['User-ID'].nunique()}\")\n",
    "print(f\"Unique Locations: {users['Location'].nunique()}\")"
   ],
   "id": "e4dab6dfe6d6c812",
   "outputs": [
    {
     "name": "stdout",
     "output_type": "stream",
     "text": [
      "\n",
      "Unique Users: 278858\n",
      "Unique Locations: 57339\n"
     ]
    }
   ],
   "execution_count": 16
  },
  {
   "metadata": {
    "ExecuteTime": {
     "end_time": "2025-04-24T09:12:19.380177Z",
     "start_time": "2025-04-24T09:12:19.365100Z"
    }
   },
   "cell_type": "code",
   "source": [
    "print(\"Missing values in Users:\")\n",
    "print(users.isnull().sum(), \"\\n\") # Check missing value"
   ],
   "id": "eee344d319c9e141",
   "outputs": [
    {
     "name": "stdout",
     "output_type": "stream",
     "text": [
      "Missing values in Users:\n",
      "User-ID          0\n",
      "Location         0\n",
      "Age         110762\n",
      "dtype: int64 \n",
      "\n"
     ]
    }
   ],
   "execution_count": 17
  },
  {
   "metadata": {},
   "cell_type": "markdown",
   "source": [
    "####  User Age Group Distribution\n",
    "\n",
    "To provide a clearer view of user demographics, the users are grouped users  four age categories:\n",
    "\n",
    "- **Child**: 5–12 years old\n",
    "- **Teenager**: 13–20 years old\n",
    "- **Adult**: 21–59 years old\n",
    "- **Senior**: 60+ years old"
   ],
   "id": "f4b76c5eea682e6e"
  },
  {
   "metadata": {
    "ExecuteTime": {
     "end_time": "2025-04-24T09:12:19.678280Z",
     "start_time": "2025-04-24T09:12:19.381136Z"
    }
   },
   "cell_type": "code",
   "source": [
    "# Filter users with a realistic age range (5 to 100 years)\n",
    "filtered_users = users[(users['Age'] >= 5) & (users['Age'] <= 100)].copy()\n",
    "\n",
    "# Define age group categories\n",
    "def get_age_group(age):\n",
    "    if age <= 12:\n",
    "        return 'Child'\n",
    "    elif age <= 20:\n",
    "        return 'Teenager'\n",
    "    elif age <= 59:\n",
    "        return 'Adult'\n",
    "    else:\n",
    "        return 'Senior'\n",
    "\n",
    "# Apply age group categorization\n",
    "filtered_users['AgeGroup'] = filtered_users['Age'].apply(get_age_group)\n",
    "\n",
    "\n",
    "plt.figure(figsize=(8, 5))\n",
    "ax = sns.countplot(data=filtered_users, x='AgeGroup', order=['Child', 'Teenager', 'Adult', 'Senior'], palette='Set3', hue='AgeGroup', legend=False)\n",
    "\n",
    "# Add data labels on top of each bar\n",
    "for container in ax.containers:\n",
    "    ax.bar_label(container, fmt='%d', label_type='edge', padding=3)\n",
    "    \n",
    "plt.title(\"Distribution of Users by Age Group\")\n",
    "plt.xlabel(\"Age Group\")\n",
    "plt.ylabel(\"Number of Users\")\n",
    "plt.show()"
   ],
   "id": "747f3ff0e4c7589e",
   "outputs": [
    {
     "data": {
      "text/plain": [
       "<Figure size 800x500 with 1 Axes>"
      ],
      "image/png": "[encoded data removed]"
     },
     "metadata": {},
     "output_type": "display_data"
    }
   ],
   "execution_count": 18
  },
  {
   "metadata": {
    "ExecuteTime": {
     "end_time": "2025-04-24T09:12:19.937933Z",
     "start_time": "2025-04-24T09:12:19.679439Z"
    }
   },
   "cell_type": "code",
   "source": [
    "# Checking outliers on user based on age\n",
    "plt.figure(figsize=(8, 4))\n",
    "sns.boxplot(x=users['Age'])\n",
    "plt.title(\"Box Plot of User Age\")\n",
    "plt.xlabel(\"Age\")\n",
    "plt.show()"
   ],
   "id": "ee3bb0d148b80076",
   "outputs": [
    {
     "data": {
      "text/plain": [
       "<Figure size 800x400 with 1 Axes>"
      ],
      "image/png": "[encoded data removed]"
     },
     "metadata": {},
     "output_type": "display_data"
    }
   ],
   "execution_count": 19
  },
  {
   "metadata": {},
   "cell_type": "markdown",
   "source": "# Ratings Variable",
   "id": "d067a5382d7189"
  },
  {
   "metadata": {
    "ExecuteTime": {
     "end_time": "2025-04-24T09:12:19.978628Z",
     "start_time": "2025-04-24T09:12:19.938785Z"
    }
   },
   "cell_type": "code",
   "source": "ratings.info() # Preview structure and types",
   "id": "c95b4c32aebca503",
   "outputs": [
    {
     "name": "stdout",
     "output_type": "stream",
     "text": [
      "<class 'pandas.core.frame.DataFrame'>\n",
      "RangeIndex: 1149780 entries, 0 to 1149779\n",
      "Data columns (total 3 columns):\n",
      " #   Column       Non-Null Count    Dtype \n",
      "---  ------       --------------    ----- \n",
      " 0   User-ID      1149780 non-null  int64 \n",
      " 1   ISBN         1149780 non-null  object\n",
      " 2   Book-Rating  1149780 non-null  int64 \n",
      "dtypes: int64(2), object(1)\n",
      "memory usage: 26.3+ MB\n"
     ]
    }
   ],
   "execution_count": 20
  },
  {
   "metadata": {
    "ExecuteTime": {
     "end_time": "2025-04-24T09:12:20.051099Z",
     "start_time": "2025-04-24T09:12:19.979334Z"
    }
   },
   "cell_type": "code",
   "source": "ratings.describe() # show summary",
   "id": "c7b01810f4edf9a3",
   "outputs": [
    {
     "data": {
      "text/plain": [
       "            User-ID   Book-Rating\n",
       "count  1.149780e+06  1.149780e+06\n",
       "mean   1.403864e+05  2.866950e+00\n",
       "std    8.056228e+04  3.854184e+00\n",
       "min    2.000000e+00  0.000000e+00\n",
       "25%    7.034500e+04  0.000000e+00\n",
       "50%    1.410100e+05  0.000000e+00\n",
       "75%    2.110280e+05  7.000000e+00\n",
       "max    2.788540e+05  1.000000e+01"
      ],
      "text/html": [
       "<div>\n",
       "<style scoped>\n",
       "    .dataframe tbody tr th:only-of-type {\n",
       "        vertical-align: middle;\n",
       "    }\n",
       "\n",
       "    .dataframe tbody tr th {\n",
       "        vertical-align: top;\n",
       "    }\n",
       "\n",
       "    .dataframe thead th {\n",
       "        text-align: right;\n",
       "    }\n",
       "</style>\n",
       "<table border=\"1\" class=\"dataframe\">\n",
       "  <thead>\n",
       "    <tr style=\"text-align: right;\">\n",
       "      <th></th>\n",
       "      <th>User-ID</th>\n",
       "      <th>Book-Rating</th>\n",
       "    </tr>\n",
       "  </thead>\n",
       "  <tbody>\n",
       "    <tr>\n",
       "      <th>count</th>\n",
       "      <td>1.149780e+06</td>\n",
       "      <td>1.149780e+06</td>\n",
       "    </tr>\n",
       "    <tr>\n",
       "      <th>mean</th>\n",
       "      <td>1.403864e+05</td>\n",
       "      <td>2.866950e+00</td>\n",
       "    </tr>\n",
       "    <tr>\n",
       "      <th>std</th>\n",
       "      <td>8.056228e+04</td>\n",
       "      <td>3.854184e+00</td>\n",
       "    </tr>\n",
       "    <tr>\n",
       "      <th>min</th>\n",
       "      <td>2.000000e+00</td>\n",
       "      <td>0.000000e+00</td>\n",
       "    </tr>\n",
       "    <tr>\n",
       "      <th>25%</th>\n",
       "      <td>7.034500e+04</td>\n",
       "      <td>0.000000e+00</td>\n",
       "    </tr>\n",
       "    <tr>\n",
       "      <th>50%</th>\n",
       "      <td>1.410100e+05</td>\n",
       "      <td>0.000000e+00</td>\n",
       "    </tr>\n",
       "    <tr>\n",
       "      <th>75%</th>\n",
       "      <td>2.110280e+05</td>\n",
       "      <td>7.000000e+00</td>\n",
       "    </tr>\n",
       "    <tr>\n",
       "      <th>max</th>\n",
       "      <td>2.788540e+05</td>\n",
       "      <td>1.000000e+01</td>\n",
       "    </tr>\n",
       "  </tbody>\n",
       "</table>\n",
       "</div>"
      ]
     },
     "execution_count": 21,
     "metadata": {},
     "output_type": "execute_result"
    }
   ],
   "execution_count": 21
  },
  {
   "metadata": {
    "ExecuteTime": {
     "end_time": "2025-04-24T09:12:20.056337Z",
     "start_time": "2025-04-24T09:12:20.052074Z"
    }
   },
   "cell_type": "code",
   "source": "ratings.head()",
   "id": "11efe59291ed00ca",
   "outputs": [
    {
     "data": {
      "text/plain": [
       "   User-ID        ISBN  Book-Rating\n",
       "0   276725  034545104X            0\n",
       "1   276726  0155061224            5\n",
       "2   276727  0446520802            0\n",
       "3   276729  052165615X            3\n",
       "4   276729  0521795028            6"
      ],
      "text/html": [
       "<div>\n",
       "<style scoped>\n",
       "    .dataframe tbody tr th:only-of-type {\n",
       "        vertical-align: middle;\n",
       "    }\n",
       "\n",
       "    .dataframe tbody tr th {\n",
       "        vertical-align: top;\n",
       "    }\n",
       "\n",
       "    .dataframe thead th {\n",
       "        text-align: right;\n",
       "    }\n",
       "</style>\n",
       "<table border=\"1\" class=\"dataframe\">\n",
       "  <thead>\n",
       "    <tr style=\"text-align: right;\">\n",
       "      <th></th>\n",
       "      <th>User-ID</th>\n",
       "      <th>ISBN</th>\n",
       "      <th>Book-Rating</th>\n",
       "    </tr>\n",
       "  </thead>\n",
       "  <tbody>\n",
       "    <tr>\n",
       "      <th>0</th>\n",
       "      <td>276725</td>\n",
       "      <td>034545104X</td>\n",
       "      <td>0</td>\n",
       "    </tr>\n",
       "    <tr>\n",
       "      <th>1</th>\n",
       "      <td>276726</td>\n",
       "      <td>0155061224</td>\n",
       "      <td>5</td>\n",
       "    </tr>\n",
       "    <tr>\n",
       "      <th>2</th>\n",
       "      <td>276727</td>\n",
       "      <td>0446520802</td>\n",
       "      <td>0</td>\n",
       "    </tr>\n",
       "    <tr>\n",
       "      <th>3</th>\n",
       "      <td>276729</td>\n",
       "      <td>052165615X</td>\n",
       "      <td>3</td>\n",
       "    </tr>\n",
       "    <tr>\n",
       "      <th>4</th>\n",
       "      <td>276729</td>\n",
       "      <td>0521795028</td>\n",
       "      <td>6</td>\n",
       "    </tr>\n",
       "  </tbody>\n",
       "</table>\n",
       "</div>"
      ]
     },
     "execution_count": 22,
     "metadata": {},
     "output_type": "execute_result"
    }
   ],
   "execution_count": 22
  },
  {
   "metadata": {
    "ExecuteTime": {
     "end_time": "2025-04-24T09:12:20.200389Z",
     "start_time": "2025-04-24T09:12:20.057260Z"
    }
   },
   "cell_type": "code",
   "source": [
    "print(f\"\\nUnique User-ID: {ratings['User-ID'].nunique()}\")\n",
    "print(f\"Unique ISBN: {ratings['ISBN'].nunique()}\")\n",
    "print(f\"Most common rating: \\n{ratings['Book-Rating'].value_counts().sort_index()}\")"
   ],
   "id": "83c3c3442b8fea5e",
   "outputs": [
    {
     "name": "stdout",
     "output_type": "stream",
     "text": [
      "\n",
      "Unique User-ID: 105283\n",
      "Unique ISBN: 340556\n",
      "Most common rating: \n",
      "Book-Rating\n",
      "0     716109\n",
      "1       1770\n",
      "2       2759\n",
      "3       5996\n",
      "4       8904\n",
      "5      50974\n",
      "6      36924\n",
      "7      76457\n",
      "8     103736\n",
      "9      67541\n",
      "10     78610\n",
      "Name: count, dtype: int64\n"
     ]
    }
   ],
   "execution_count": 23
  },
  {
   "metadata": {},
   "cell_type": "markdown",
   "source": "#### Distribution of Book Ratings per User ",
   "id": "fc4753d5ce3554d2"
  },
  {
   "metadata": {
    "ExecuteTime": {
     "end_time": "2025-04-24T09:12:21.417692Z",
     "start_time": "2025-04-24T09:12:20.201490Z"
    }
   },
   "cell_type": "code",
   "source": [
    "plt.figure(figsize=(10, 5))\n",
    "sns.countplot(x='Book-Rating', hue='Book-Rating', legend=False, data=ratings, palette='coolwarm')\n",
    "plt.title(\"Distribution of Book Ratings\")\n",
    "plt.xlabel(\"Rating\")\n",
    "plt.ylabel(\"Number of Ratings\")\n",
    "\n",
    "# Add exact number above bars\n",
    "ax = plt.gca()\n",
    "for container in ax.containers:\n",
    "    ax.bar_label(container, fmt='%d', label_type='edge', padding=3)\n",
    "\n",
    "plt.tight_layout()\n",
    "plt.show()"
   ],
   "id": "abcdb494062f5be8",
   "outputs": [
    {
     "data": {
      "text/plain": [
       "<Figure size 1000x500 with 1 Axes>"
      ],
      "image/png": "[encoded data removed]"
     },
     "metadata": {},
     "output_type": "display_data"
    }
   ],
   "execution_count": 24
  },
  {
   "metadata": {
    "ExecuteTime": {
     "end_time": "2025-04-24T09:12:21.426906Z",
     "start_time": "2025-04-24T09:12:21.419196Z"
    }
   },
   "cell_type": "code",
   "source": [
    "# Print the distribution of ratings from 0 to 10\n",
    "rating_distribution = ratings['Book-Rating'].value_counts().sort_index()\n",
    "\n",
    "# Display the distribution\n",
    "print(\"Distribution of Ratings (0-10):\")\n",
    "print(rating_distribution)"
   ],
   "id": "3338abe42b7d4cf9",
   "outputs": [
    {
     "name": "stdout",
     "output_type": "stream",
     "text": [
      "Distribution of Ratings (0-10):\n",
      "Book-Rating\n",
      "0     716109\n",
      "1       1770\n",
      "2       2759\n",
      "3       5996\n",
      "4       8904\n",
      "5      50974\n",
      "6      36924\n",
      "7      76457\n",
      "8     103736\n",
      "9      67541\n",
      "10     78610\n",
      "Name: count, dtype: int64\n"
     ]
    }
   ],
   "execution_count": 25
  },
  {
   "metadata": {},
   "cell_type": "markdown",
   "source": "## Data Preprocessing\n",
   "id": "a833cd677aa5faeb"
  },
  {
   "metadata": {},
   "cell_type": "markdown",
   "source": "### Books Variable Cleaning",
   "id": "64db5abaa5ac7bcf"
  },
  {
   "metadata": {},
   "cell_type": "markdown",
   "source": "#### Handling missing values",
   "id": "d607714b6fbd0434"
  },
  {
   "metadata": {
    "ExecuteTime": {
     "end_time": "2025-04-24T09:12:21.491242Z",
     "start_time": "2025-04-24T09:12:21.427854Z"
    }
   },
   "cell_type": "code",
   "source": [
    "print(\"Missing values in books before handling:\")\n",
    "print(books.isnull().sum())"
   ],
   "id": "a9d96717d5573902",
   "outputs": [
    {
     "name": "stdout",
     "output_type": "stream",
     "text": [
      "Missing values in books before handling:\n",
      "ISBN                   0\n",
      "Book-Title             0\n",
      "Book-Author            2\n",
      "Year-Of-Publication    0\n",
      "Publisher              2\n",
      "Image-URL-S            0\n",
      "Image-URL-M            0\n",
      "Image-URL-L            3\n",
      "dtype: int64\n"
     ]
    }
   ],
   "execution_count": 26
  },
  {
   "metadata": {
    "ExecuteTime": {
     "end_time": "2025-04-24T09:12:21.514451Z",
     "start_time": "2025-04-24T09:12:21.492228Z"
    }
   },
   "cell_type": "code",
   "source": [
    "# Fill the missing values in Book-Author and Publisher with Unknown\n",
    "books['Book-Author'] = books['Book-Author'].fillna('Unknown')\n",
    "books['Publisher'] = books['Publisher'].fillna('Unknown')"
   ],
   "id": "ea2410bf1b8c22e4",
   "outputs": [],
   "execution_count": 27
  },
  {
   "metadata": {
    "ExecuteTime": {
     "end_time": "2025-04-24T09:12:21.584948Z",
     "start_time": "2025-04-24T09:12:21.515136Z"
    }
   },
   "cell_type": "code",
   "source": [
    "# Drop missing values on Image-URL-L\n",
    "books = books[books['Image-URL-L'].notnull()]"
   ],
   "id": "58684fdf63a41409",
   "outputs": [],
   "execution_count": 28
  },
  {
   "metadata": {
    "ExecuteTime": {
     "end_time": "2025-04-24T09:12:21.641373Z",
     "start_time": "2025-04-24T09:12:21.593103Z"
    }
   },
   "cell_type": "code",
   "source": [
    "print(\"Missing values in books after handling:\")\n",
    "print(books.isnull().sum())\n",
    "print(f\"Final shape: {books.shape}\")"
   ],
   "id": "de85357bdb584f9d",
   "outputs": [
    {
     "name": "stdout",
     "output_type": "stream",
     "text": [
      "Missing values in books after handling:\n",
      "ISBN                   0\n",
      "Book-Title             0\n",
      "Book-Author            0\n",
      "Year-Of-Publication    0\n",
      "Publisher              0\n",
      "Image-URL-S            0\n",
      "Image-URL-M            0\n",
      "Image-URL-L            0\n",
      "dtype: int64\n",
      "Final shape: (271357, 8)\n"
     ]
    }
   ],
   "execution_count": 29
  },
  {
   "metadata": {},
   "cell_type": "markdown",
   "source": "### ",
   "id": "850f26b7e56d847a"
  },
  {
   "metadata": {},
   "cell_type": "markdown",
   "source": "#### Year Of Publication Outlier Handling",
   "id": "be5f45de6236062c"
  },
  {
   "metadata": {
    "ExecuteTime": {
     "end_time": "2025-04-24T09:12:21.763048Z",
     "start_time": "2025-04-24T09:12:21.642100Z"
    }
   },
   "cell_type": "code",
   "source": [
    "# Copy and convert year column to numeric\n",
    "temp_books = books.copy()\n",
    "temp_books['Year-Of-Publication'] = pd.to_numeric(temp_books['Year-Of-Publication'], errors='coerce')"
   ],
   "id": "eff7c47766fc5d6a",
   "outputs": [],
   "execution_count": 30
  },
  {
   "metadata": {
    "ExecuteTime": {
     "end_time": "2025-04-24T09:12:21.766709Z",
     "start_time": "2025-04-24T09:12:21.764237Z"
    }
   },
   "cell_type": "code",
   "source": [
    "# Drop NaN for analysis\n",
    "year_data = temp_books['Year-Of-Publication'].dropna()"
   ],
   "id": "940eae0982cf9c2a",
   "outputs": [],
   "execution_count": 31
  },
  {
   "metadata": {
    "ExecuteTime": {
     "end_time": "2025-04-24T09:12:21.775908Z",
     "start_time": "2025-04-24T09:12:21.767575Z"
    }
   },
   "cell_type": "code",
   "source": [
    "# Handling the Outlier with IQR\n",
    "Q1 = year_data.quantile(0.25)\n",
    "Q3 = year_data.quantile(0.75)\n",
    "IQR = Q3 - Q1\n",
    "\n",
    "# Define acceptable range\n",
    "lower_bound = Q1 - 1.5 * IQR\n",
    "upper_bound = Q3 + 1.5 * IQR\n",
    "\n",
    "print(f\"IQR: {IQR}\")\n",
    "print(f\"Acceptable Year Range: {int(lower_bound)} to {int(upper_bound)}\")"
   ],
   "id": "2ee6d8604c5cc808",
   "outputs": [
    {
     "name": "stdout",
     "output_type": "stream",
     "text": [
      "IQR: 11.0\n",
      "Acceptable Year Range: 1972 to 2016\n"
     ]
    }
   ],
   "execution_count": 32
  },
  {
   "metadata": {
    "ExecuteTime": {
     "end_time": "2025-04-24T09:12:21.800533Z",
     "start_time": "2025-04-24T09:12:21.776743Z"
    }
   },
   "cell_type": "code",
   "source": [
    "# Apply only years within the IQR range\n",
    "books = temp_books[(temp_books['Year-Of-Publication'] >= lower_bound) & \n",
    "                   (temp_books['Year-Of-Publication'] <= upper_bound)]\n",
    "\n",
    "print(f\"Remaining data shape after outlier removal: {books.shape}\")"
   ],
   "id": "65725512d355da88",
   "outputs": [
    {
     "name": "stdout",
     "output_type": "stream",
     "text": [
      "Remaining data shape after outlier removal: (262262, 8)\n"
     ]
    }
   ],
   "execution_count": 33
  },
  {
   "metadata": {
    "ExecuteTime": {
     "end_time": "2025-04-24T09:12:22.072860Z",
     "start_time": "2025-04-24T09:12:21.801853Z"
    }
   },
   "cell_type": "code",
   "source": [
    "plt.figure(figsize=(8, 4))\n",
    "sns.boxplot(x=books['Year-Of-Publication'])\n",
    "plt.title(\"Box Plot of Year of Publication\")\n",
    "plt.xlabel(\"Year\")\n",
    "plt.show()"
   ],
   "id": "1497634c9d27865",
   "outputs": [
    {
     "data": {
      "text/plain": [
       "<Figure size 800x400 with 1 Axes>"
      ],
      "image/png": "[encoded data removed]"
     },
     "metadata": {},
     "output_type": "display_data"
    }
   ],
   "execution_count": 34
  },
  {
   "metadata": {},
   "cell_type": "markdown",
   "source": "### Users Variable",
   "id": "aac6e298930ced02"
  },
  {
   "metadata": {},
   "cell_type": "markdown",
   "source": "#### Handling Outlier and Missing Values in Age",
   "id": "b7fe401fc248d6da"
  },
  {
   "metadata": {
    "ExecuteTime": {
     "end_time": "2025-04-24T09:12:22.084265Z",
     "start_time": "2025-04-24T09:12:22.074168Z"
    }
   },
   "cell_type": "code",
   "source": [
    "# Copy and filter the valid age ranges\n",
    "users_cleaned = users.copy()\n",
    "users_cleaned = users_cleaned[(users_cleaned['Age'] >= 5) & (users_cleaned['Age'] <= 100)]\n"
   ],
   "id": "38d43437b3e52d40",
   "outputs": [],
   "execution_count": 35
  },
  {
   "metadata": {
    "ExecuteTime": {
     "end_time": "2025-04-24T09:12:22.089562Z",
     "start_time": "2025-04-24T09:12:22.085412Z"
    }
   },
   "cell_type": "code",
   "source": [
    "# Fill remaining missing values with median age (from within the range)\n",
    "median_age = users_cleaned['Age'].median()\n",
    "users_cleaned['Age'].fillna(median_age)\n",
    "\n",
    "print(f\"Users cleaned shape: {users_cleaned.shape}\")"
   ],
   "id": "ed2f726be3a6c6a",
   "outputs": [
    {
     "name": "stdout",
     "output_type": "stream",
     "text": [
      "Users cleaned shape: (166848, 3)\n"
     ]
    }
   ],
   "execution_count": 36
  },
  {
   "metadata": {
    "ExecuteTime": {
     "end_time": "2025-04-24T09:12:22.272830Z",
     "start_time": "2025-04-24T09:12:22.090418Z"
    }
   },
   "cell_type": "code",
   "source": [
    "# Checking outliers on user based on age\n",
    "plt.figure(figsize=(8, 4))\n",
    "sns.boxplot(x=users_cleaned['Age'])\n",
    "plt.title(\"Box Plot of User Age\")\n",
    "plt.xlabel(\"Age\")\n",
    "plt.show()"
   ],
   "id": "4e46c7c268ec321b",
   "outputs": [
    {
     "data": {
      "text/plain": [
       "<Figure size 800x400 with 1 Axes>"
      ],
      "image/png": "[encoded data removed]"
     },
     "metadata": {},
     "output_type": "display_data"
    }
   ],
   "execution_count": 37
  },
  {
   "metadata": {},
   "cell_type": "markdown",
   "source": "### Ratings Variable",
   "id": "b05fccc967f93ab1"
  },
  {
   "metadata": {},
   "cell_type": "markdown",
   "source": [
    "### Drop Rating 0\n",
    "Users have read the book, but they don't give the feedback. So, rating 0 is dropped"
   ],
   "id": "5b294c870c381077"
  },
  {
   "metadata": {
    "ExecuteTime": {
     "end_time": "2025-04-24T09:12:22.311905Z",
     "start_time": "2025-04-24T09:12:22.273859Z"
    }
   },
   "cell_type": "code",
   "source": [
    "ratings_cleaned = ratings[ratings['Book-Rating'] > 0].copy()\n",
    "print(f\"Ratings after removing 0s: {ratings_cleaned.shape}\")"
   ],
   "id": "366e80ffff4bd4d5",
   "outputs": [
    {
     "name": "stdout",
     "output_type": "stream",
     "text": [
      "Ratings after removing 0s: (433671, 3)\n"
     ]
    }
   ],
   "execution_count": 38
  },
  {
   "metadata": {
    "ExecuteTime": {
     "end_time": "2025-04-24T09:12:23.188083Z",
     "start_time": "2025-04-24T09:12:22.312850Z"
    }
   },
   "cell_type": "code",
   "source": [
    "plt.figure(figsize=(10, 5))\n",
    "sns.countplot(x='Book-Rating', hue='Book-Rating', legend=False, data=ratings_cleaned, palette='Blues')\n",
    "plt.title(\"Distribution of Explicit Book Ratings\")\n",
    "plt.xlabel(\"Rating\")\n",
    "plt.ylabel(\"Count\")\n",
    "\n",
    "# Add labels on bars\n",
    "ax = plt.gca()\n",
    "for container in ax.containers:\n",
    "    ax.bar_label(container, fmt='%d', label_type='edge', padding=3)\n",
    "\n",
    "plt.tight_layout()\n",
    "plt.show()"
   ],
   "id": "d882a37d18fa3f8d",
   "outputs": [
    {
     "data": {
      "text/plain": [
       "<Figure size 1000x500 with 1 Axes>"
      ],
      "image/png": "[encoded data removed]"
     },
     "metadata": {},
     "output_type": "display_data"
    }
   ],
   "execution_count": 39
  },
  {
   "metadata": {},
   "cell_type": "markdown",
   "source": [
    "## Data Preparation\n",
    "All variable data is merged to be used in both Collaborative Filtering (CF) and Content-Based Filtering (CBF). It can be flexibly used for both models."
   ],
   "id": "886cc96f8cc4b5a0"
  },
  {
   "metadata": {
    "ExecuteTime": {
     "end_time": "2025-04-24T09:12:23.545419Z",
     "start_time": "2025-04-24T09:12:23.189165Z"
    }
   },
   "cell_type": "code",
   "source": [
    "# Merger Ratings and Books\n",
    "ratings_books = ratings_cleaned.merge(books, on='ISBN', how='inner')\n",
    "print(f\"Merged (ratings + books): {ratings_books.shape}\")"
   ],
   "id": "75386c82c87f36a9",
   "outputs": [
    {
     "name": "stdout",
     "output_type": "stream",
     "text": [
      "Merged (ratings + books): (373410, 10)\n"
     ]
    }
   ],
   "execution_count": 40
  },
  {
   "metadata": {
    "ExecuteTime": {
     "end_time": "2025-04-24T09:12:23.659418Z",
     "start_time": "2025-04-24T09:12:23.546410Z"
    }
   },
   "cell_type": "code",
   "source": [
    "# Merger with users\n",
    "full_data = ratings_books.merge(users_cleaned, on='User-ID', how='inner')\n",
    "print(f\"Final merged shape (ratings + books + users): {full_data.shape}\")"
   ],
   "id": "6cd46c5a63e8e220",
   "outputs": [
    {
     "name": "stdout",
     "output_type": "stream",
     "text": [
      "Final merged shape (ratings + books + users): (260647, 12)\n"
     ]
    }
   ],
   "execution_count": 41
  },
  {
   "metadata": {
    "ExecuteTime": {
     "end_time": "2025-04-24T09:12:23.666899Z",
     "start_time": "2025-04-24T09:12:23.660545Z"
    }
   },
   "cell_type": "code",
   "source": "full_data.head()",
   "id": "44237f76fac921ac",
   "outputs": [
    {
     "data": {
      "text/plain": [
       "   User-ID        ISBN  Book-Rating  \\\n",
       "0   276729  052165615X            3   \n",
       "1   276729  0521795028            6   \n",
       "2   276747  0060517794            9   \n",
       "3   276747  0671537458            9   \n",
       "4   276747  0679776818            8   \n",
       "\n",
       "                                          Book-Title       Book-Author  \\\n",
       "0                                     Help!: Level 1     Philip Prowse   \n",
       "1  The Amsterdam Connection : Level 4 (Cambridge ...       Sue Leather   \n",
       "2                           Little Altars Everywhere     Rebecca Wells   \n",
       "3                                  Waiting to Exhale    Terry McMillan   \n",
       "4                  Birdsong: A Novel of Love and War  Sebastian Faulks   \n",
       "\n",
       "   Year-Of-Publication                   Publisher  \\\n",
       "0                 1999  Cambridge University Press   \n",
       "1                 2001  Cambridge University Press   \n",
       "2                 2003                 HarperTorch   \n",
       "3                 1995                      Pocket   \n",
       "4                 1997           Vintage Books USA   \n",
       "\n",
       "                                         Image-URL-S  \\\n",
       "0  http://images.amazon.com/images/P/052165615X.0...   \n",
       "1  http://images.amazon.com/images/P/0521795028.0...   \n",
       "2  http://images.amazon.com/images/P/0060517794.0...   \n",
       "3  http://images.amazon.com/images/P/0671537458.0...   \n",
       "4  http://images.amazon.com/images/P/0679776818.0...   \n",
       "\n",
       "                                         Image-URL-M  \\\n",
       "0  http://images.amazon.com/images/P/052165615X.0...   \n",
       "1  http://images.amazon.com/images/P/0521795028.0...   \n",
       "2  http://images.amazon.com/images/P/0060517794.0...   \n",
       "3  http://images.amazon.com/images/P/0671537458.0...   \n",
       "4  http://images.amazon.com/images/P/0679776818.0...   \n",
       "\n",
       "                                         Image-URL-L              Location  \\\n",
       "0  http://images.amazon.com/images/P/052165615X.0...  rijeka, n/a, croatia   \n",
       "1  http://images.amazon.com/images/P/0521795028.0...  rijeka, n/a, croatia   \n",
       "2  http://images.amazon.com/images/P/0060517794.0...  iowa city, iowa, usa   \n",
       "3  http://images.amazon.com/images/P/0671537458.0...  iowa city, iowa, usa   \n",
       "4  http://images.amazon.com/images/P/0679776818.0...  iowa city, iowa, usa   \n",
       "\n",
       "    Age  \n",
       "0  16.0  \n",
       "1  16.0  \n",
       "2  25.0  \n",
       "3  25.0  \n",
       "4  25.0  "
      ],
      "text/html": [
       "<div>\n",
       "<style scoped>\n",
       "    .dataframe tbody tr th:only-of-type {\n",
       "        vertical-align: middle;\n",
       "    }\n",
       "\n",
       "    .dataframe tbody tr th {\n",
       "        vertical-align: top;\n",
       "    }\n",
       "\n",
       "    .dataframe thead th {\n",
       "        text-align: right;\n",
       "    }\n",
       "</style>\n",
       "<table border=\"1\" class=\"dataframe\">\n",
       "  <thead>\n",
       "    <tr style=\"text-align: right;\">\n",
       "      <th></th>\n",
       "      <th>User-ID</th>\n",
       "      <th>ISBN</th>\n",
       "      <th>Book-Rating</th>\n",
       "      <th>Book-Title</th>\n",
       "      <th>Book-Author</th>\n",
       "      <th>Year-Of-Publication</th>\n",
       "      <th>Publisher</th>\n",
       "      <th>Image-URL-S</th>\n",
       "      <th>Image-URL-M</th>\n",
       "      <th>Image-URL-L</th>\n",
       "      <th>Location</th>\n",
       "      <th>Age</th>\n",
       "    </tr>\n",
       "  </thead>\n",
       "  <tbody>\n",
       "    <tr>\n",
       "      <th>0</th>\n",
       "      <td>276729</td>\n",
       "      <td>052165615X</td>\n",
       "      <td>3</td>\n",
       "      <td>Help!: Level 1</td>\n",
       "      <td>Philip Prowse</td>\n",
       "      <td>1999</td>\n",
       "      <td>Cambridge University Press</td>\n",
       "      <td>http://images.amazon.com/images/P/052165615X.0...</td>\n",
       "      <td>http://images.amazon.com/images/P/052165615X.0...</td>\n",
       "      <td>http://images.amazon.com/images/P/052165615X.0...</td>\n",
       "      <td>rijeka, n/a, croatia</td>\n",
       "      <td>16.0</td>\n",
       "    </tr>\n",
       "    <tr>\n",
       "      <th>1</th>\n",
       "      <td>276729</td>\n",
       "      <td>0521795028</td>\n",
       "      <td>6</td>\n",
       "      <td>The Amsterdam Connection : Level 4 (Cambridge ...</td>\n",
       "      <td>Sue Leather</td>\n",
       "      <td>2001</td>\n",
       "      <td>Cambridge University Press</td>\n",
       "      <td>http://images.amazon.com/images/P/0521795028.0...</td>\n",
       "      <td>http://images.amazon.com/images/P/0521795028.0...</td>\n",
       "      <td>http://images.amazon.com/images/P/0521795028.0...</td>\n",
       "      <td>rijeka, n/a, croatia</td>\n",
       "      <td>16.0</td>\n",
       "    </tr>\n",
       "    <tr>\n",
       "      <th>2</th>\n",
       "      <td>276747</td>\n",
       "      <td>0060517794</td>\n",
       "      <td>9</td>\n",
       "      <td>Little Altars Everywhere</td>\n",
       "      <td>Rebecca Wells</td>\n",
       "      <td>2003</td>\n",
       "      <td>HarperTorch</td>\n",
       "      <td>http://images.amazon.com/images/P/0060517794.0...</td>\n",
       "      <td>http://images.amazon.com/images/P/0060517794.0...</td>\n",
       "      <td>http://images.amazon.com/images/P/0060517794.0...</td>\n",
       "      <td>iowa city, iowa, usa</td>\n",
       "      <td>25.0</td>\n",
       "    </tr>\n",
       "    <tr>\n",
       "      <th>3</th>\n",
       "      <td>276747</td>\n",
       "      <td>0671537458</td>\n",
       "      <td>9</td>\n",
       "      <td>Waiting to Exhale</td>\n",
       "      <td>Terry McMillan</td>\n",
       "      <td>1995</td>\n",
       "      <td>Pocket</td>\n",
       "      <td>http://images.amazon.com/images/P/0671537458.0...</td>\n",
       "      <td>http://images.amazon.com/images/P/0671537458.0...</td>\n",
       "      <td>http://images.amazon.com/images/P/0671537458.0...</td>\n",
       "      <td>iowa city, iowa, usa</td>\n",
       "      <td>25.0</td>\n",
       "    </tr>\n",
       "    <tr>\n",
       "      <th>4</th>\n",
       "      <td>276747</td>\n",
       "      <td>0679776818</td>\n",
       "      <td>8</td>\n",
       "      <td>Birdsong: A Novel of Love and War</td>\n",
       "      <td>Sebastian Faulks</td>\n",
       "      <td>1997</td>\n",
       "      <td>Vintage Books USA</td>\n",
       "      <td>http://images.amazon.com/images/P/0679776818.0...</td>\n",
       "      <td>http://images.amazon.com/images/P/0679776818.0...</td>\n",
       "      <td>http://images.amazon.com/images/P/0679776818.0...</td>\n",
       "      <td>iowa city, iowa, usa</td>\n",
       "      <td>25.0</td>\n",
       "    </tr>\n",
       "  </tbody>\n",
       "</table>\n",
       "</div>"
      ]
     },
     "execution_count": 42,
     "metadata": {},
     "output_type": "execute_result"
    }
   ],
   "execution_count": 42
  },
  {
   "metadata": {},
   "cell_type": "markdown",
   "source": "## Modelling",
   "id": "dd6d60529bdde453"
  },
  {
   "metadata": {},
   "cell_type": "markdown",
   "source": "### Model Development with Content Based Filtering",
   "id": "37fe55a157e04704"
  },
  {
   "metadata": {
    "ExecuteTime": {
     "end_time": "2025-04-24T09:44:32.290437Z",
     "start_time": "2025-04-24T09:44:31.872311Z"
    }
   },
   "cell_type": "code",
   "source": [
    "# Create a copy of full_data for CBF modeling and using used columns\n",
    "cbf_data = full_data[['Book-Title', 'Book-Author', 'Publisher', 'Image-URL-L']].drop_duplicates()\n",
    "cbf_data = cbf_data.drop_duplicates(subset=['Book-Title', 'Book-Author'], keep='first').reset_index(drop=True)"
   ],
   "id": "ba1d54b94121a7be",
   "outputs": [],
   "execution_count": 127
  },
  {
   "metadata": {
    "ExecuteTime": {
     "end_time": "2025-04-24T09:44:32.415196Z",
     "start_time": "2025-04-24T09:44:32.375807Z"
    }
   },
   "cell_type": "code",
   "source": [
    "#Combine book title and author for TF-IDF\n",
    "cbf_data['combined_features'] = cbf_data['Book-Title'] + ' ' + cbf_data['Book-Author']\n",
    "cbf_data['combined_features'] = cbf_data['combined_features'].fillna('')"
   ],
   "id": "1b840b65dab5d1d7",
   "outputs": [],
   "execution_count": 128
  },
  {
   "metadata": {
    "ExecuteTime": {
     "end_time": "2025-04-24T09:44:34.269158Z",
     "start_time": "2025-04-24T09:44:33.659396Z"
    }
   },
   "cell_type": "code",
   "source": [
    "# Using TF-IDF\n",
    "tfidf = TfidfVectorizer()\n",
    "\n",
    "tfidf_matrix = tfidf.fit_transform(cbf_data['combined_features'])\n",
    "\n",
    "vocab = tfidf.get_feature_names_out()\n",
    "\n",
    "print(f\"Unique features (token): {len(vocab)}\")\n",
    "print(vocab[:20])"
   ],
   "id": "b1744e83d2375cbd",
   "outputs": [
    {
     "name": "stdout",
     "output_type": "stream",
     "text": [
      "Unique features (token): 71169\n",
      "['00' '000' '001' '0017' '003' '007' '01' '011090' '013' '016' '0176' '02'\n",
      " '024' '0272' '02745' '028' '02tc0676' '03' '030' '037']\n"
     ]
    }
   ],
   "execution_count": 129
  },
  {
   "metadata": {
    "ExecuteTime": {
     "end_time": "2025-04-24T09:44:34.640521Z",
     "start_time": "2025-04-24T09:44:34.637261Z"
    }
   },
   "cell_type": "code",
   "source": "tfidf_matrix.shape",
   "id": "ff42cf9e3d8af295",
   "outputs": [
    {
     "data": {
      "text/plain": [
       "(108309, 71169)"
      ]
     },
     "execution_count": 130,
     "metadata": {},
     "output_type": "execute_result"
    }
   ],
   "execution_count": 130
  },
  {
   "metadata": {
    "ExecuteTime": {
     "end_time": "2025-04-24T09:42:34.809453Z",
     "start_time": "2025-04-24T09:42:34.770635Z"
    }
   },
   "cell_type": "code",
   "source": [
    "# Create lowercase index mapping\n",
    "cbf_data['Book-Title-Lower'] = cbf_data['Book-Title'].str.lower()\n",
    "indices = pd.Series(cbf_data.index, index=cbf_data['Book-Title-Lower']).drop_duplicates()"
   ],
   "id": "2be703026fb0599a",
   "outputs": [],
   "execution_count": 122
  },
  {
   "metadata": {
    "ExecuteTime": {
     "end_time": "2025-04-24T09:42:35.300844Z",
     "start_time": "2025-04-24T09:42:35.298072Z"
    }
   },
   "cell_type": "code",
   "source": [
    "def normalize_title(title):\n",
    "    title = title.lower()\n",
    "    title = re.sub(r'[^a-z\\s]', '', title)  # remove digits/punctuation\n",
    "    title = re.sub(r'\\s+', ' ', title).strip()\n",
    "    return title"
   ],
   "id": "d407d37d50afb7f3",
   "outputs": [],
   "execution_count": 123
  },
  {
   "metadata": {
    "ExecuteTime": {
     "end_time": "2025-04-24T14:34:26.281668Z",
     "start_time": "2025-04-24T14:34:26.273869Z"
    }
   },
   "cell_type": "code",
   "source": [
    "def safe_display_image(url, width=100):\n",
    "    if isinstance(url, str) and url.startswith('http'):\n",
    "        try:\n",
    "            display(Image(url=url, width=width))\n",
    "        except:\n",
    "            print(\"[Image not available]\")\n",
    "    else:\n",
    "        print(\"[No image URL]\")"
   ],
   "id": "3cf63551a034e1f",
   "outputs": [],
   "execution_count": 180
  },
  {
   "metadata": {
    "ExecuteTime": {
     "end_time": "2025-04-24T14:36:04.197399Z",
     "start_time": "2025-04-24T14:36:04.188106Z"
    }
   },
   "cell_type": "code",
   "source": [
    "def get_book_recommendations(title, k=5, max_author_ratio=0.3):\n",
    "    \"\"\"\n",
    "    Return top-k diverse books based on TF-IDF cosine similarity.\n",
    "    Limits max percentage of books from the same author.\n",
    "    Excludes semantic duplicates based on normalized title + author.\n",
    "    \"\"\"\n",
    "    title = title.lower()\n",
    "\n",
    "    if title not in indices:\n",
    "        print(f\"Book title '{title}' not found in the dataset.\")\n",
    "        return\n",
    "\n",
    "    idx = indices[title]\n",
    "    if isinstance(idx, pd.Series):\n",
    "        idx = idx.iloc[0]\n",
    "\n",
    "    if idx >= tfidf_matrix.shape[0]:\n",
    "        print(f\"Index {idx} is out of range for the TF-IDF matrix.\")\n",
    "        return\n",
    "\n",
    "    # Normalize input title and author\n",
    "    input_title_norm = normalize_title(cbf_data.loc[idx, 'Book-Title'])\n",
    "    input_author = cbf_data.loc[idx, 'Book-Author'].lower()\n",
    "\n",
    "    # Compute cosine similarity\n",
    "    sim_scores = cosine_similarity(tfidf_matrix[idx], tfidf_matrix).flatten()\n",
    "    top_indices = sim_scores.argsort()[::-1]\n",
    "\n",
    "    # Author diversity filtering\n",
    "    max_per_author = max(1, floor(k * max_author_ratio))\n",
    "    author_counts = defaultdict(int)\n",
    "    filtered = []\n",
    "\n",
    "    # Filtering book to not same with the input\n",
    "    for i in top_indices:\n",
    "        if i == idx:\n",
    "            continue\n",
    "\n",
    "        candidate = cbf_data.iloc[i]\n",
    "        candidate_title_norm = normalize_title(candidate['Book-Title'])\n",
    "        candidate_author = candidate['Book-Author'].lower()\n",
    "\n",
    "        # Skip duplicates\n",
    "        if candidate_title_norm == input_title_norm and candidate_author == input_author:\n",
    "            continue\n",
    "\n",
    "        # Author diversity filter\n",
    "        if author_counts[candidate_author] >= max_per_author:\n",
    "            continue\n",
    "\n",
    "        filtered.append(i)\n",
    "        author_counts[candidate_author] += 1\n",
    "\n",
    "        if len(filtered) == k:\n",
    "            break\n",
    "\n",
    "    if not filtered:\n",
    "        print(\"No diverse recommendations found.\")\n",
    "        return\n",
    "\n",
    "    # Display input book\n",
    "    print(\"\\nInput Book:\")\n",
    "    input_book = cbf_data.loc[idx]\n",
    "    print(f\"Title     : {input_book['Book-Title']}\")\n",
    "    print(f\"Author    : {input_book['Book-Author']}\")\n",
    "    print(f\"Publisher : {input_book['Publisher']}\")\n",
    "    safe_display_image(input_book['Image-URL-L'])\n",
    "\n",
    "    print(f\"\\nTop {k} Recommendations:\\n\")\n",
    "    \n",
    "    for i, index in enumerate(filtered, start=1):\n",
    "        rec = cbf_data.iloc[index]\n",
    "        print(f\"#{i}\")\n",
    "        print(f\"Title     : {rec['Book-Title']}\")\n",
    "        print(f\"Author    : {rec['Book-Author']}\")\n",
    "        print(f\"Publisher : {rec['Publisher']}\")\n",
    "        safe_display_image(rec['Image-URL-L'])\n",
    "        print(\"-\" * 40)"
   ],
   "id": "d2066c084b0d1279",
   "outputs": [],
   "execution_count": 185
  },
  {
   "metadata": {
    "ExecuteTime": {
     "end_time": "2025-04-24T14:36:04.878048Z",
     "start_time": "2025-04-24T14:36:04.826671Z"
    }
   },
   "cell_type": "code",
   "source": "get_book_recommendations(\"Harry Potter and the Prisoner of Azkaban\")",
   "id": "5c958afb465f4126",
   "outputs": [
    {
     "name": "stdout",
     "output_type": "stream",
     "text": [
      "\n",
      "Input Book:\n",
      "Title     : Harry Potter and the Prisoner of Azkaban\n",
      "Author    : J. K. Rowling\n",
      "Publisher : Bloomsbury Pub Ltd\n"
     ]
    },
    {
     "data": {
      "text/html": [
       "<img src=\"http://images.amazon.com/images/P/0747545111.01.LZZZZZZZ.jpg\" width=\"100\"/>"
      ],
      "text/plain": [
       "<IPython.core.display.Image object>"
      ]
     },
     "metadata": {},
     "output_type": "display_data"
    },
    {
     "name": "stdout",
     "output_type": "stream",
     "text": [
      "\n",
      "Top 5 Recommendations:\n",
      "\n",
      "#1\n",
      "Title     : Harry Potter and the Prisoner of Azkaban (Book 3)\n",
      "Author    : J. K. Rowling\n",
      "Publisher : Scholastic\n"
     ]
    },
    {
     "data": {
      "text/html": [
       "<img src=\"http://images.amazon.com/images/P/0439136369.01.LZZZZZZZ.jpg\" width=\"100\"/>"
      ],
      "text/plain": [
       "<IPython.core.display.Image object>"
      ]
     },
     "metadata": {},
     "output_type": "display_data"
    },
    {
     "name": "stdout",
     "output_type": "stream",
     "text": [
      "----------------------------------------\n",
      "#2\n",
      "Title     : Harry Potter and the Prisoner of Azkaban (Harry Potter)\n",
      "Author    : J.K. Rowling\n",
      "Publisher : Scholastic Paperbacks\n"
     ]
    },
    {
     "data": {
      "text/html": [
       "<img src=\"http://images.amazon.com/images/P/043965548X.01.LZZZZZZZ.jpg\" width=\"100\"/>"
      ],
      "text/plain": [
       "<IPython.core.display.Image object>"
      ]
     },
     "metadata": {},
     "output_type": "display_data"
    },
    {
     "name": "stdout",
     "output_type": "stream",
     "text": [
      "----------------------------------------\n",
      "#3\n",
      "Title     : Harry Potter and the Prisoner of Azkaban Color and Activity Book (Harry Potter)\n",
      "Author    : Scholastic\n",
      "Publisher : Scholastic\n"
     ]
    },
    {
     "data": {
      "text/html": [
       "<img src=\"http://images.amazon.com/images/P/0439625602.01.LZZZZZZZ.jpg\" width=\"100\"/>"
      ],
      "text/plain": [
       "<IPython.core.display.Image object>"
      ]
     },
     "metadata": {},
     "output_type": "display_data"
    },
    {
     "name": "stdout",
     "output_type": "stream",
     "text": [
      "----------------------------------------\n",
      "#4\n",
      "Title     : Harry Potter, tome 3 : Harry Potter et le Prisonnier d'Azkaban\n",
      "Author    : Joanne K. Rowling\n",
      "Publisher : Gallimard\n"
     ]
    },
    {
     "data": {
      "text/html": [
       "<img src=\"http://images.amazon.com/images/P/2070541304.01.LZZZZZZZ.jpg\" width=\"100\"/>"
      ],
      "text/plain": [
       "<IPython.core.display.Image object>"
      ]
     },
     "metadata": {},
     "output_type": "display_data"
    },
    {
     "name": "stdout",
     "output_type": "stream",
     "text": [
      "----------------------------------------\n",
      "#5\n",
      "Title     : J. K. Rowling: The Wizard Behind Harry Potter\n",
      "Author    : Marc Shapiro\n",
      "Publisher : St. Martin's Press\n"
     ]
    },
    {
     "data": {
      "text/html": [
       "<img src=\"http://images.amazon.com/images/P/0312272243.01.LZZZZZZZ.jpg\" width=\"100\"/>"
      ],
      "text/plain": [
       "<IPython.core.display.Image object>"
      ]
     },
     "metadata": {},
     "output_type": "display_data"
    },
    {
     "name": "stdout",
     "output_type": "stream",
     "text": [
      "----------------------------------------\n"
     ]
    }
   ],
   "execution_count": 186
  },
  {
   "metadata": {},
   "cell_type": "markdown",
   "source": "### Model Development with Collaborative Filtering (CF)",
   "id": "9e9f84202cd8e09e"
  },
  {
   "metadata": {},
   "cell_type": "markdown",
   "source": "#### Data Understanding",
   "id": "ca232c7e90e6f211"
  },
  {
   "metadata": {
    "ExecuteTime": {
     "end_time": "2025-04-24T13:00:55.620011Z",
     "start_time": "2025-04-24T13:00:55.414793Z"
    }
   },
   "cell_type": "code",
   "source": [
    "# Get data for cf_data \n",
    "cf_data = full_data[['User-ID', 'ISBN', 'Book-Rating']].copy()"
   ],
   "id": "e35a4e4797b44c0f",
   "outputs": [],
   "execution_count": 138
  },
  {
   "metadata": {
    "ExecuteTime": {
     "end_time": "2025-04-24T13:01:54.670763Z",
     "start_time": "2025-04-24T13:01:54.488737Z"
    }
   },
   "cell_type": "code",
   "source": "cf_data.info()",
   "id": "e3ab2de847fcf7e3",
   "outputs": [
    {
     "name": "stdout",
     "output_type": "stream",
     "text": [
      "<class 'pandas.core.frame.DataFrame'>\n",
      "RangeIndex: 260647 entries, 0 to 260646\n",
      "Data columns (total 3 columns):\n",
      " #   Column       Non-Null Count   Dtype \n",
      "---  ------       --------------   ----- \n",
      " 0   User-ID      260647 non-null  int64 \n",
      " 1   ISBN         260647 non-null  object\n",
      " 2   Book-Rating  260647 non-null  int64 \n",
      "dtypes: int64(2), object(1)\n",
      "memory usage: 6.0+ MB\n"
     ]
    }
   ],
   "execution_count": 139
  },
  {
   "metadata": {},
   "cell_type": "markdown",
   "source": [
    "#### Data Preparation \n",
    "In data preparation, there are two steps:\n",
    "1. Encode User-ID and ISBN to Integer \n",
    "2. Rename column with easy naming\n",
    "3. Convert Book-Rating to float"
   ],
   "id": "6dce5c406f366005"
  },
  {
   "metadata": {
    "ExecuteTime": {
     "end_time": "2025-04-24T13:10:04.351881Z",
     "start_time": "2025-04-24T13:10:03.717886Z"
    }
   },
   "cell_type": "code",
   "source": [
    "# Encode User-ID and ISBN to Integer\n",
    "user_encoder = LabelEncoder()\n",
    "item_encoder = LabelEncoder()\n",
    "\n",
    "cf_data['user'] = user_encoder.fit_transform(cf_data['User-ID'])\n",
    "cf_data['item'] = item_encoder.fit_transform(cf_data['ISBN'])"
   ],
   "id": "69a13d60da43eb89",
   "outputs": [],
   "execution_count": 141
  },
  {
   "metadata": {
    "ExecuteTime": {
     "end_time": "2025-04-24T13:11:29.842239Z",
     "start_time": "2025-04-24T13:11:29.826461Z"
    }
   },
   "cell_type": "code",
   "source": [
    "# Cek result encode\n",
    "cf_data.head()"
   ],
   "id": "92b41dbe96cd0149",
   "outputs": [
    {
     "data": {
      "text/plain": [
       "   User-ID        ISBN  Book-Rating   user   item\n",
       "0   276729  052165615X            3  39073  47812\n",
       "1   276729  0521795028            6  39073  47830\n",
       "2   276747  0060517794            9  39074   2322\n",
       "3   276747  0671537458            9  39074  57889\n",
       "4   276747  0679776818            8  39074  62078"
      ],
      "text/html": [
       "<div>\n",
       "<style scoped>\n",
       "    .dataframe tbody tr th:only-of-type {\n",
       "        vertical-align: middle;\n",
       "    }\n",
       "\n",
       "    .dataframe tbody tr th {\n",
       "        vertical-align: top;\n",
       "    }\n",
       "\n",
       "    .dataframe thead th {\n",
       "        text-align: right;\n",
       "    }\n",
       "</style>\n",
       "<table border=\"1\" class=\"dataframe\">\n",
       "  <thead>\n",
       "    <tr style=\"text-align: right;\">\n",
       "      <th></th>\n",
       "      <th>User-ID</th>\n",
       "      <th>ISBN</th>\n",
       "      <th>Book-Rating</th>\n",
       "      <th>user</th>\n",
       "      <th>item</th>\n",
       "    </tr>\n",
       "  </thead>\n",
       "  <tbody>\n",
       "    <tr>\n",
       "      <th>0</th>\n",
       "      <td>276729</td>\n",
       "      <td>052165615X</td>\n",
       "      <td>3</td>\n",
       "      <td>39073</td>\n",
       "      <td>47812</td>\n",
       "    </tr>\n",
       "    <tr>\n",
       "      <th>1</th>\n",
       "      <td>276729</td>\n",
       "      <td>0521795028</td>\n",
       "      <td>6</td>\n",
       "      <td>39073</td>\n",
       "      <td>47830</td>\n",
       "    </tr>\n",
       "    <tr>\n",
       "      <th>2</th>\n",
       "      <td>276747</td>\n",
       "      <td>0060517794</td>\n",
       "      <td>9</td>\n",
       "      <td>39074</td>\n",
       "      <td>2322</td>\n",
       "    </tr>\n",
       "    <tr>\n",
       "      <th>3</th>\n",
       "      <td>276747</td>\n",
       "      <td>0671537458</td>\n",
       "      <td>9</td>\n",
       "      <td>39074</td>\n",
       "      <td>57889</td>\n",
       "    </tr>\n",
       "    <tr>\n",
       "      <th>4</th>\n",
       "      <td>276747</td>\n",
       "      <td>0679776818</td>\n",
       "      <td>8</td>\n",
       "      <td>39074</td>\n",
       "      <td>62078</td>\n",
       "    </tr>\n",
       "  </tbody>\n",
       "</table>\n",
       "</div>"
      ]
     },
     "execution_count": 142,
     "metadata": {},
     "output_type": "execute_result"
    }
   ],
   "execution_count": 142
  },
  {
   "metadata": {
    "ExecuteTime": {
     "end_time": "2025-04-24T13:12:06.940251Z",
     "start_time": "2025-04-24T13:12:06.907610Z"
    }
   },
   "cell_type": "code",
   "source": [
    "# Convert rating to float\n",
    "cf_data['rating'] = cf_data['Book-Rating'].astype(float)"
   ],
   "id": "d1622df009f77a5c",
   "outputs": [],
   "execution_count": 143
  },
  {
   "metadata": {
    "ExecuteTime": {
     "end_time": "2025-04-24T13:12:30.658176Z",
     "start_time": "2025-04-24T13:12:30.605053Z"
    }
   },
   "cell_type": "code",
   "source": [
    "# Get only used columns\n",
    "cf_data = cf_data[['user', 'item', 'rating']]\n",
    "cf_data.head()"
   ],
   "id": "ad94b2cff21b0f9d",
   "outputs": [
    {
     "data": {
      "text/plain": [
       "    user   item  rating\n",
       "0  39073  47812     3.0\n",
       "1  39073  47830     6.0\n",
       "2  39074   2322     9.0\n",
       "3  39074  57889     9.0\n",
       "4  39074  62078     8.0"
      ],
      "text/html": [
       "<div>\n",
       "<style scoped>\n",
       "    .dataframe tbody tr th:only-of-type {\n",
       "        vertical-align: middle;\n",
       "    }\n",
       "\n",
       "    .dataframe tbody tr th {\n",
       "        vertical-align: top;\n",
       "    }\n",
       "\n",
       "    .dataframe thead th {\n",
       "        text-align: right;\n",
       "    }\n",
       "</style>\n",
       "<table border=\"1\" class=\"dataframe\">\n",
       "  <thead>\n",
       "    <tr style=\"text-align: right;\">\n",
       "      <th></th>\n",
       "      <th>user</th>\n",
       "      <th>item</th>\n",
       "      <th>rating</th>\n",
       "    </tr>\n",
       "  </thead>\n",
       "  <tbody>\n",
       "    <tr>\n",
       "      <th>0</th>\n",
       "      <td>39073</td>\n",
       "      <td>47812</td>\n",
       "      <td>3.0</td>\n",
       "    </tr>\n",
       "    <tr>\n",
       "      <th>1</th>\n",
       "      <td>39073</td>\n",
       "      <td>47830</td>\n",
       "      <td>6.0</td>\n",
       "    </tr>\n",
       "    <tr>\n",
       "      <th>2</th>\n",
       "      <td>39074</td>\n",
       "      <td>2322</td>\n",
       "      <td>9.0</td>\n",
       "    </tr>\n",
       "    <tr>\n",
       "      <th>3</th>\n",
       "      <td>39074</td>\n",
       "      <td>57889</td>\n",
       "      <td>9.0</td>\n",
       "    </tr>\n",
       "    <tr>\n",
       "      <th>4</th>\n",
       "      <td>39074</td>\n",
       "      <td>62078</td>\n",
       "      <td>8.0</td>\n",
       "    </tr>\n",
       "  </tbody>\n",
       "</table>\n",
       "</div>"
      ]
     },
     "execution_count": 144,
     "metadata": {},
     "output_type": "execute_result"
    }
   ],
   "execution_count": 144
  },
  {
   "metadata": {
    "ExecuteTime": {
     "end_time": "2025-04-24T13:14:37.533820Z",
     "start_time": "2025-04-24T13:14:37.478318Z"
    }
   },
   "cell_type": "code",
   "source": [
    "# Count the number of unique users\n",
    "num_users = cf_data['user'].nunique()\n",
    "\n",
    "# Count the number of unique items (books)\n",
    "num_items = cf_data['item'].nunique()\n",
    "\n",
    "# Find the minimum and maximum rating values\n",
    "min_rating = cf_data['rating'].min()\n",
    "max_rating = cf_data['rating'].max()\n",
    "\n",
    "# Display the results\n",
    "print(f\"Number of Users       : {num_users}\")\n",
    "print(f\"Number of Items       : {num_items}\")\n",
    "print(f\"Minimum Rating Value  : {min_rating}\")\n",
    "print(f\"Maximum Rating Value  : {max_rating}\")"
   ],
   "id": "d3767d62c6e69466",
   "outputs": [
    {
     "name": "stdout",
     "output_type": "stream",
     "text": [
      "Number of Users       : 39392\n",
      "Number of Items       : 115503\n",
      "Minimum Rating Value  : 1.0\n",
      "Maximum Rating Value  : 10.0\n"
     ]
    }
   ],
   "execution_count": 145
  },
  {
   "metadata": {},
   "cell_type": "markdown",
   "source": [
    "#### Split Train and Testing Data\n",
    "Split 80% Training, 20% Testing"
   ],
   "id": "88481dd3d028faf0"
  },
  {
   "metadata": {
    "ExecuteTime": {
     "end_time": "2025-04-24T13:21:11.496317Z",
     "start_time": "2025-04-24T13:21:11.392065Z"
    }
   },
   "cell_type": "code",
   "source": [
    "# Create the input array X (pairs of user and item)\n",
    "X = cf_data[['user', 'item']].values\n",
    "\n",
    "# Normalize ratings to range [0, 1]\n",
    "y = cf_data['rating'].apply(lambda x: (x - min_rating) / (max_rating - min_rating)).values"
   ],
   "id": "e1385debade90e7c",
   "outputs": [],
   "execution_count": 147
  },
  {
   "metadata": {
    "ExecuteTime": {
     "end_time": "2025-04-24T13:23:20.372889Z",
     "start_time": "2025-04-24T13:23:20.328439Z"
    }
   },
   "cell_type": "code",
   "source": [
    "# Split the data: 80% train, 20% test\n",
    "X_train, X_test, y_train, y_test = train_test_split(\n",
    "    X,           # Input: user-item pairs\n",
    "    y,           # Target: normalized ratings\n",
    "    test_size=0.2,\n",
    "    random_state=42\n",
    ")\n",
    "print(f\"X_train shape : {X_train.shape}\")\n",
    "print(f\"X_test shape  : {X_test.shape}\")\n",
    "print(f\"y_train shape : {y_train.shape}\")\n",
    "print(f\"y_test shape  : {y_test.shape}\")"
   ],
   "id": "416e39c0f5957e8",
   "outputs": [
    {
     "name": "stdout",
     "output_type": "stream",
     "text": [
      "X_train shape : (208517, 2)\n",
      "X_test shape  : (52130, 2)\n",
      "y_train shape : (208517,)\n",
      "y_test shape  : (52130,)\n"
     ]
    }
   ],
   "execution_count": 148
  },
  {
   "metadata": {},
   "cell_type": "markdown",
   "source": "#### Training",
   "id": "99a4aa8064cda3d2"
  },
  {
   "metadata": {
    "ExecuteTime": {
     "end_time": "2025-04-24T13:43:37.443015Z",
     "start_time": "2025-04-24T13:43:37.423553Z"
    }
   },
   "cell_type": "code",
   "source": [
    "class RecommenderNet(keras.Model):\n",
    "    def __init__(self, num_users, num_items, embedding_size=50, **kwargs):\n",
    "        super(RecommenderNet, self).__init__(**kwargs)\n",
    "        \n",
    "        # User embedding\n",
    "        self.user_embedding = layers.Embedding(\n",
    "            input_dim=num_users,\n",
    "            output_dim=embedding_size,\n",
    "            embeddings_initializer='he_normal',\n",
    "            embeddings_regularizer=keras.regularizers.l2(1e-6)\n",
    "        )\n",
    "        self.user_bias = layers.Embedding(input_dim=num_users, output_dim=1)\n",
    "\n",
    "        # Item embedding\n",
    "        self.item_embedding = layers.Embedding(\n",
    "            input_dim=num_items,\n",
    "            output_dim=embedding_size,\n",
    "            embeddings_initializer='he_normal',\n",
    "            embeddings_regularizer=keras.regularizers.l2(1e-6)\n",
    "        )\n",
    "        self.item_bias = layers.Embedding(input_dim=num_items, output_dim=1)\n",
    "\n",
    "    def call(self, inputs):\n",
    "        user_vector = self.user_embedding(inputs[:, 0]) # Call layer embedding 1\n",
    "        user_bias = self.user_bias(inputs[:, 0])        # Call layer embedding 2\n",
    "        item_vector = self.item_embedding(inputs[:, 1]) # Call layer embedding 3\n",
    "        item_bias = self.item_bias(inputs[:, 1])        # Call layer embedding 4\n",
    "\n",
    "        dot_user_item = tf.reduce_sum(user_vector * item_vector, axis=1, keepdims=True)\n",
    "        result = dot_user_item + user_bias + item_bias\n",
    "\n",
    "        return tf.nn.sigmoid(result)"
   ],
   "id": "3ee6a5615ddc4e63",
   "outputs": [],
   "execution_count": 151
  },
  {
   "metadata": {
    "ExecuteTime": {
     "end_time": "2025-04-24T13:44:32.434628Z",
     "start_time": "2025-04-24T13:44:32.375871Z"
    }
   },
   "cell_type": "code",
   "source": [
    "# Get user and item dimensions\n",
    "num_users = cf_data['user'].nunique()\n",
    "num_items = cf_data['item'].nunique()\n",
    "\n",
    "# Build model\n",
    "model = RecommenderNet(num_users, num_items)\n",
    "model.compile(\n",
    "    loss='mse',\n",
    "    optimizer=tf.keras.optimizers.Adam(learning_rate=0.001),\n",
    "    metrics=[\n",
    "        tf.keras.metrics.RootMeanSquaredError(),\n",
    "        tf.keras.metrics.MeanAbsoluteError()\n",
    "    ]\n",
    ")"
   ],
   "id": "b22d25cc1ce4a46b",
   "outputs": [],
   "execution_count": 154
  },
  {
   "metadata": {
    "ExecuteTime": {
     "end_time": "2025-04-24T13:56:57.998899Z",
     "start_time": "2025-04-24T13:44:46.991975Z"
    }
   },
   "cell_type": "code",
   "source": [
    "# Training\n",
    "history = model.fit(\n",
    "    x=X_train,\n",
    "    y=y_train,\n",
    "    batch_size=64,\n",
    "    epochs=10,\n",
    "    verbose=1,\n",
    "    validation_data=(X_test, y_test)\n",
    ")"
   ],
   "id": "ea3a2b06a5ec2826",
   "outputs": [
    {
     "name": "stdout",
     "output_type": "stream",
     "text": [
      "Epoch 1/10\n",
      "\u001B[1m3259/3259\u001B[0m \u001B[32m━━━━━━━━━━━━━━━━━━━━\u001B[0m\u001B[37m\u001B[0m \u001B[1m72s\u001B[0m 22ms/step - loss: 0.0910 - mean_absolute_error: 0.2620 - root_mean_squared_error: 0.3010 - val_loss: 0.0660 - val_mean_absolute_error: 0.2149 - val_root_mean_squared_error: 0.2542\n",
      "Epoch 2/10\n",
      "\u001B[1m3259/3259\u001B[0m \u001B[32m━━━━━━━━━━━━━━━━━━━━\u001B[0m\u001B[37m\u001B[0m \u001B[1m76s\u001B[0m 23ms/step - loss: 0.0579 - mean_absolute_error: 0.1966 - root_mean_squared_error: 0.2362 - val_loss: 0.0533 - val_mean_absolute_error: 0.1849 - val_root_mean_squared_error: 0.2250\n",
      "Epoch 3/10\n",
      "\u001B[1m3259/3259\u001B[0m \u001B[32m━━━━━━━━━━━━━━━━━━━━\u001B[0m\u001B[37m\u001B[0m \u001B[1m76s\u001B[0m 23ms/step - loss: 0.0448 - mean_absolute_error: 0.1654 - root_mean_squared_error: 0.2047 - val_loss: 0.0471 - val_mean_absolute_error: 0.1717 - val_root_mean_squared_error: 0.2117\n",
      "Epoch 4/10\n",
      "\u001B[1m3259/3259\u001B[0m \u001B[32m━━━━━━━━━━━━━━━━━━━━\u001B[0m\u001B[37m\u001B[0m \u001B[1m74s\u001B[0m 23ms/step - loss: 0.0377 - mean_absolute_error: 0.1497 - root_mean_squared_error: 0.1883 - val_loss: 0.0430 - val_mean_absolute_error: 0.1635 - val_root_mean_squared_error: 0.2036\n",
      "Epoch 5/10\n",
      "\u001B[1m3259/3259\u001B[0m \u001B[32m━━━━━━━━━━━━━━━━━━━━\u001B[0m\u001B[37m\u001B[0m \u001B[1m78s\u001B[0m 24ms/step - loss: 0.0328 - mean_absolute_error: 0.1382 - root_mean_squared_error: 0.1765 - val_loss: 0.0406 - val_mean_absolute_error: 0.1581 - val_root_mean_squared_error: 0.1983\n",
      "Epoch 6/10\n",
      "\u001B[1m3259/3259\u001B[0m \u001B[32m━━━━━━━━━━━━━━━━━━━━\u001B[0m\u001B[37m\u001B[0m \u001B[1m71s\u001B[0m 22ms/step - loss: 0.0294 - mean_absolute_error: 0.1297 - root_mean_squared_error: 0.1676 - val_loss: 0.0391 - val_mean_absolute_error: 0.1544 - val_root_mean_squared_error: 0.1949\n",
      "Epoch 7/10\n",
      "\u001B[1m3259/3259\u001B[0m \u001B[32m━━━━━━━━━━━━━━━━━━━━\u001B[0m\u001B[37m\u001B[0m \u001B[1m65s\u001B[0m 20ms/step - loss: 0.0267 - mean_absolute_error: 0.1222 - root_mean_squared_error: 0.1598 - val_loss: 0.0382 - val_mean_absolute_error: 0.1519 - val_root_mean_squared_error: 0.1926\n",
      "Epoch 8/10\n",
      "\u001B[1m3259/3259\u001B[0m \u001B[32m━━━━━━━━━━━━━━━━━━━━\u001B[0m\u001B[37m\u001B[0m \u001B[1m77s\u001B[0m 24ms/step - loss: 0.0249 - mean_absolute_error: 0.1166 - root_mean_squared_error: 0.1544 - val_loss: 0.0376 - val_mean_absolute_error: 0.1502 - val_root_mean_squared_error: 0.1912\n",
      "Epoch 9/10\n",
      "\u001B[1m3259/3259\u001B[0m \u001B[32m━━━━━━━━━━━━━━━━━━━━\u001B[0m\u001B[37m\u001B[0m \u001B[1m71s\u001B[0m 22ms/step - loss: 0.0235 - mean_absolute_error: 0.1120 - root_mean_squared_error: 0.1496 - val_loss: 0.0372 - val_mean_absolute_error: 0.1491 - val_root_mean_squared_error: 0.1902\n",
      "Epoch 10/10\n",
      "\u001B[1m3259/3259\u001B[0m \u001B[32m━━━━━━━━━━━━━━━━━━━━\u001B[0m\u001B[37m\u001B[0m \u001B[1m70s\u001B[0m 22ms/step - loss: 0.0223 - mean_absolute_error: 0.1080 - root_mean_squared_error: 0.1457 - val_loss: 0.0369 - val_mean_absolute_error: 0.1483 - val_root_mean_squared_error: 0.1896\n"
     ]
    }
   ],
   "execution_count": 155
  },
  {
   "metadata": {},
   "cell_type": "markdown",
   "source": "#### Visualize metrics",
   "id": "7a879064808670e7"
  },
  {
   "metadata": {
    "ExecuteTime": {
     "end_time": "2025-04-24T13:57:05.118586Z",
     "start_time": "2025-04-24T13:57:05.111165Z"
    }
   },
   "cell_type": "code",
   "source": [
    "def plot_training_history(history):\n",
    "    plt.figure(figsize=(14, 5))\n",
    "\n",
    "    # Loss (MSE)\n",
    "    plt.subplot(1, 3, 1)\n",
    "    plt.plot(history.history['loss'], label='Train Loss (MSE)')\n",
    "    plt.plot(history.history['val_loss'], label='Val Loss (MSE)')\n",
    "    plt.title('Loss per Epoch')\n",
    "    plt.xlabel('Epoch')\n",
    "    plt.ylabel('Loss')\n",
    "    plt.legend()\n",
    "    plt.grid(True)\n",
    "\n",
    "    # RMSE\n",
    "    plt.subplot(1, 3, 2)\n",
    "    plt.plot(history.history['root_mean_squared_error'], label='Train RMSE')\n",
    "    plt.plot(history.history['val_root_mean_squared_error'], label='Val RMSE')\n",
    "    plt.title('RMSE per Epoch')\n",
    "    plt.xlabel('Epoch')\n",
    "    plt.ylabel('RMSE')\n",
    "    plt.legend()\n",
    "    plt.grid(True)\n",
    "\n",
    "    # MAE\n",
    "    plt.subplot(1, 3, 3)\n",
    "    plt.plot(history.history['mean_absolute_error'], label='Train MAE')\n",
    "    plt.plot(history.history['val_mean_absolute_error'], label='Val MAE')\n",
    "    plt.title('MAE per Epoch')\n",
    "    plt.xlabel('Epoch')\n",
    "    plt.ylabel('MAE')\n",
    "    plt.legend()\n",
    "    plt.grid(True)\n",
    "\n",
    "    plt.tight_layout()\n",
    "    plt.show()"
   ],
   "id": "4039f2046f2355e3",
   "outputs": [],
   "execution_count": 156
  },
  {
   "metadata": {
    "ExecuteTime": {
     "end_time": "2025-04-24T13:57:08.322195Z",
     "start_time": "2025-04-24T13:57:07.757149Z"
    }
   },
   "cell_type": "code",
   "source": "plot_training_history(history)",
   "id": "48bf39a20b8db687",
   "outputs": [
    {
     "data": {
      "text/plain": [
       "<Figure size 1400x500 with 3 Axes>"
      ],
      "image/png": "[encoded data removed]"
     },
     "metadata": {},
     "output_type": "display_data"
    }
   ],
   "execution_count": 157
  },
  {
   "metadata": {},
   "cell_type": "markdown",
   "source": "#### Get Books Recommendation",
   "id": "df5c3d21c02978fa"
  },
  {
   "metadata": {
    "ExecuteTime": {
     "end_time": "2025-04-24T16:08:43.177272Z",
     "start_time": "2025-04-24T16:08:42.917227Z"
    }
   },
   "cell_type": "code",
   "source": [
    "def show_high_rated_book_and_recommendation(original_user_id, top_k=5, min_rating=8.0, top_k_rating=3):\n",
    "    # Encode user ID\n",
    "    try:\n",
    "        encoded_user_id = user_encoder.transform([original_user_id])[0]\n",
    "    except ValueError:\n",
    "        print(f\"User-ID {original_user_id} not found in training data.\")\n",
    "        return pd.DataFrame()\n",
    "\n",
    "    # Filter books rated ≥ min_rating by the user\n",
    "    high_rated_df = cf_data[(cf_data['user'] == encoded_user_id) & (cf_data['rating'] >= min_rating)]\n",
    "    \n",
    "    # Sort by actual rating value (descending) and get top k__rating\n",
    "    top_rated_df = high_rated_df.sort_values(by='rating', ascending=False).head(top_k_rating)\n",
    "    \n",
    "    # Decode item IDs to ISBNs\n",
    "    high_rated_isbns = item_encoder.inverse_transform(top_rated_df['item'])\n",
    "    \n",
    "    # Lookup book details\n",
    "    high_rated_books = books[books['ISBN'].isin(high_rated_isbns)][['Book-Title', 'Book-Author', 'Publisher', 'Image-URL-L']].drop_duplicates().reset_index(drop=True)\n",
    "    \n",
    "    print(f\"\\nTop {top_k_rating} Books rated ≥ {min_rating} by user {original_user_id}:\\n\")\n",
    "    if high_rated_books.empty:\n",
    "        print(\"No high-rated books found.\")\n",
    "    else:\n",
    "        for i, row in high_rated_books.iterrows():\n",
    "            print(f\"#{i+1}: {row['Book-Title']} by {row['Book-Author']} ({row['Publisher']})\")\n",
    "            safe_display_image(row['Image-URL-L'])\n",
    "            print(\"-\" * 40)\n",
    "\n",
    "    # Not rated Books → Recommendation\n",
    "    user_all_rated_df = cf_data[cf_data['user'] == encoded_user_id]\n",
    "    rated_items = user_all_rated_df['item'].values\n",
    "    \n",
    "    all_items = np.arange(num_items) # Create array\n",
    "    unrated_items = np.setdiff1d(all_items, rated_items) # Get only unrated items from all items\n",
    "\n",
    "    user_input = np.array([[encoded_user_id, item] for item in unrated_items]) # Create user - item to every unrated items\n",
    "    \n",
    "    #Predict using the model\n",
    "    predicted_ratings = model.predict(user_input, verbose=0).flatten()\n",
    "\n",
    "    top_indices = predicted_ratings.argsort()[-top_k:][::-1] # Get high prediction \n",
    "    \n",
    "    recommended_item_ids = unrated_items[top_indices]\n",
    "    recommended_isbns = item_encoder.inverse_transform(recommended_item_ids)\n",
    "    \n",
    "    # Get all recommendation book from books\n",
    "    recommended_books = books[books['ISBN'].isin(recommended_isbns)][['Book-Title', 'Book-Author', 'Publisher', 'Image-URL-M']].drop_duplicates().reset_index(drop=True)\n",
    "\n",
    "    print(f\"\\nTop {top_k} Book Recommendations for User {original_user_id}:\\n\")\n",
    "    if recommended_books.empty:\n",
    "        print(\"No recommendations available.\")\n",
    "    else:\n",
    "        for i, row in recommended_books.iterrows():\n",
    "            print(f\"#{i+1}: {row['Book-Title']} by {row['Book-Author']} ({row['Publisher']})\")\n",
    "            safe_display_image(row['Image-URL-M'], width=100)\n",
    "            print(\"-\" * 40)"
   ],
   "id": "b64ff5a508fd8ec2",
   "outputs": [],
   "execution_count": 190
  },
  {
   "metadata": {
    "ExecuteTime": {
     "end_time": "2025-04-24T16:08:48.620674Z",
     "start_time": "2025-04-24T16:08:43.694962Z"
    }
   },
   "cell_type": "code",
   "source": [
    "# Random users\n",
    "unique_users = np.unique(X_train[:, 0])\n",
    "original_user_ids = user_encoder.inverse_transform(unique_users)\n",
    "random_user_id = random.choice(original_user_ids)\n",
    "print(f\"Get high rated books and recommendation for user ID: {random_user_id}\")\n",
    "show_high_rated_book_and_recommendation(random_user_id)"
   ],
   "id": "82c1aac4e2e922e0",
   "outputs": [
    {
     "name": "stdout",
     "output_type": "stream",
     "text": [
      "Get high rated books and recommendation for user ID: 259369\n",
      "\n",
      "Top 3 Books rated ≥ 8.0 by user 259369:\n",
      "\n",
      "No high-rated books found.\n",
      "\n",
      "Top 5 Book Recommendations for User 259369:\n",
      "\n",
      "#1: Lonesome Dove by Larry McMurtry (Pocket)\n"
     ]
    },
    {
     "data": {
      "text/html": [
       "<img src=\"http://images.amazon.com/images/P/067168390X.01.MZZZZZZZ.jpg\" width=\"100\"/>"
      ],
      "text/plain": [
       "<IPython.core.display.Image object>"
      ]
     },
     "metadata": {},
     "output_type": "display_data"
    },
    {
     "name": "stdout",
     "output_type": "stream",
     "text": [
      "----------------------------------------\n",
      "#2: The Return of the King (The Lord of the Rings, Part 3) by J.R.R. TOLKIEN (Del Rey)\n"
     ]
    },
    {
     "data": {
      "text/html": [
       "<img src=\"http://images.amazon.com/images/P/0345339738.01.MZZZZZZZ.jpg\" width=\"100\"/>"
      ],
      "text/plain": [
       "<IPython.core.display.Image object>"
      ]
     },
     "metadata": {},
     "output_type": "display_data"
    },
    {
     "name": "stdout",
     "output_type": "stream",
     "text": [
      "----------------------------------------\n",
      "#3: Dune (Remembering Tomorrow) by Frank Herbert (ACE Charter)\n"
     ]
    },
    {
     "data": {
      "text/html": [
       "<img src=\"http://images.amazon.com/images/P/0441172717.01.MZZZZZZZ.jpg\" width=\"100\"/>"
      ],
      "text/plain": [
       "<IPython.core.display.Image object>"
      ]
     },
     "metadata": {},
     "output_type": "display_data"
    },
    {
     "name": "stdout",
     "output_type": "stream",
     "text": [
      "----------------------------------------\n",
      "#4: Harry Potter and the Sorcerer's Stone (Book 1) by J. K. Rowling (Scholastic)\n"
     ]
    },
    {
     "data": {
      "text/html": [
       "<img src=\"http://images.amazon.com/images/P/043936213X.01.MZZZZZZZ.jpg\" width=\"100\"/>"
      ],
      "text/plain": [
       "<IPython.core.display.Image object>"
      ]
     },
     "metadata": {},
     "output_type": "display_data"
    },
    {
     "name": "stdout",
     "output_type": "stream",
     "text": [
      "----------------------------------------\n",
      "#5: My Sister's Keeper : A Novel (Picoult, Jodi) by Jodi Picoult (Atria)\n"
     ]
    },
    {
     "data": {
      "text/html": [
       "<img src=\"http://images.amazon.com/images/P/0743454529.01.MZZZZZZZ.jpg\" width=\"100\"/>"
      ],
      "text/plain": [
       "<IPython.core.display.Image object>"
      ]
     },
     "metadata": {},
     "output_type": "display_data"
    },
    {
     "name": "stdout",
     "output_type": "stream",
     "text": [
      "----------------------------------------\n"
     ]
    }
   ],
   "execution_count": 191
  },
  {
   "metadata": {
    "ExecuteTime": {
     "end_time": "2025-04-24T16:08:52.670656Z",
     "start_time": "2025-04-24T16:08:48.625391Z"
    }
   },
   "cell_type": "code",
   "source": "show_high_rated_book_and_recommendation(110887)",
   "id": "b6492da44ee8ad51",
   "outputs": [
    {
     "name": "stdout",
     "output_type": "stream",
     "text": [
      "\n",
      "Top 3 Books rated ≥ 8.0 by user 110887:\n",
      "\n",
      "#1: In the Heart of the Sea: The Tragedy of the Whaleship Essex by Nat Philbrick (Penguin Books)\n"
     ]
    },
    {
     "data": {
      "text/html": [
       "<img src=\"http://images.amazon.com/images/P/0141001828.01.LZZZZZZZ.jpg\" width=\"100\"/>"
      ],
      "text/plain": [
       "<IPython.core.display.Image object>"
      ]
     },
     "metadata": {},
     "output_type": "display_data"
    },
    {
     "name": "stdout",
     "output_type": "stream",
     "text": [
      "----------------------------------------\n",
      "#2: Driven by W. G. Griffiths (Warner Faith)\n"
     ]
    },
    {
     "data": {
      "text/html": [
       "<img src=\"http://images.amazon.com/images/P/0446679402.01.LZZZZZZZ.jpg\" width=\"100\"/>"
      ],
      "text/plain": [
       "<IPython.core.display.Image object>"
      ]
     },
     "metadata": {},
     "output_type": "display_data"
    },
    {
     "name": "stdout",
     "output_type": "stream",
     "text": [
      "----------------------------------------\n",
      "#3: About Three Bricks Shy of a Load by Mel Blount (Ballantine Books)\n"
     ]
    },
    {
     "data": {
      "text/html": [
       "<img src=\"http://images.amazon.com/images/P/0345291107.01.LZZZZZZZ.jpg\" width=\"100\"/>"
      ],
      "text/plain": [
       "<IPython.core.display.Image object>"
      ]
     },
     "metadata": {},
     "output_type": "display_data"
    },
    {
     "name": "stdout",
     "output_type": "stream",
     "text": [
      "----------------------------------------\n",
      "\n",
      "Top 5 Book Recommendations for User 110887:\n",
      "\n",
      "#1: Lonesome Dove by Larry McMurtry (Pocket)\n"
     ]
    },
    {
     "data": {
      "text/html": [
       "<img src=\"http://images.amazon.com/images/P/067168390X.01.MZZZZZZZ.jpg\" width=\"100\"/>"
      ],
      "text/plain": [
       "<IPython.core.display.Image object>"
      ]
     },
     "metadata": {},
     "output_type": "display_data"
    },
    {
     "name": "stdout",
     "output_type": "stream",
     "text": [
      "----------------------------------------\n",
      "#2: The Return of the King (The Lord of the Rings, Part 3) by J.R.R. TOLKIEN (Del Rey)\n"
     ]
    },
    {
     "data": {
      "text/html": [
       "<img src=\"http://images.amazon.com/images/P/0345339738.01.MZZZZZZZ.jpg\" width=\"100\"/>"
      ],
      "text/plain": [
       "<IPython.core.display.Image object>"
      ]
     },
     "metadata": {},
     "output_type": "display_data"
    },
    {
     "name": "stdout",
     "output_type": "stream",
     "text": [
      "----------------------------------------\n",
      "#3: Dune (Remembering Tomorrow) by Frank Herbert (ACE Charter)\n"
     ]
    },
    {
     "data": {
      "text/html": [
       "<img src=\"http://images.amazon.com/images/P/0441172717.01.MZZZZZZZ.jpg\" width=\"100\"/>"
      ],
      "text/plain": [
       "<IPython.core.display.Image object>"
      ]
     },
     "metadata": {},
     "output_type": "display_data"
    },
    {
     "name": "stdout",
     "output_type": "stream",
     "text": [
      "----------------------------------------\n",
      "#4: Harry Potter and the Sorcerer's Stone (Book 1) by J. K. Rowling (Scholastic)\n"
     ]
    },
    {
     "data": {
      "text/html": [
       "<img src=\"http://images.amazon.com/images/P/043936213X.01.MZZZZZZZ.jpg\" width=\"100\"/>"
      ],
      "text/plain": [
       "<IPython.core.display.Image object>"
      ]
     },
     "metadata": {},
     "output_type": "display_data"
    },
    {
     "name": "stdout",
     "output_type": "stream",
     "text": [
      "----------------------------------------\n",
      "#5: My Sister's Keeper : A Novel (Picoult, Jodi) by Jodi Picoult (Atria)\n"
     ]
    },
    {
     "data": {
      "text/html": [
       "<img src=\"http://images.amazon.com/images/P/0743454529.01.MZZZZZZZ.jpg\" width=\"100\"/>"
      ],
      "text/plain": [
       "<IPython.core.display.Image object>"
      ]
     },
     "metadata": {},
     "output_type": "display_data"
    },
    {
     "name": "stdout",
     "output_type": "stream",
     "text": [
      "----------------------------------------\n"
     ]
    }
   ],
   "execution_count": 192
  }
 ],
 "metadata": {
  "kernelspec": {
   "display_name": "Python 3",
   "language": "python",
   "name": "python3"
  },
  "language_info": {
   "codemirror_mode": {
    "name": "ipython",
    "version": 2
   },
   "file_extension": ".py",
   "mimetype": "text/x-python",
   "name": "python",
   "nbconvert_exporter": "python",
   "pygments_lexer": "ipython2",
   "version": "2.7.6"
  }
 },
 "nbformat": 4,
 "nbformat_minor": 5
}
